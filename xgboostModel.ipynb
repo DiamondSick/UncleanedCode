{
 "cells": [
  {
   "cell_type": "code",
   "execution_count": 2,
   "metadata": {
    "collapsed": true,
    "deletable": true,
    "editable": true
   },
   "outputs": [],
   "source": [
    "import xgboost as xgb\n",
    "import csv\n",
    "import numpy as np\n",
    "import nltk\n",
    "from sklearn.feature_extraction.text import CountVectorizer\n",
    "from sklearn.feature_extraction.text import TfidfTransformer"
   ]
  },
  {
   "cell_type": "code",
   "execution_count": 12,
   "metadata": {
    "collapsed": false,
    "deletable": true,
    "editable": true
   },
   "outputs": [
    {
     "name": "stdout",
     "output_type": "stream",
     "text": [
      "有 739 条\n"
     ]
    }
   ],
   "source": [
    "def readtrain():\n",
    "    with open('train_modified.csv', 'rb') as csvfile:\n",
    "        reader = csv.reader(csvfile)\n",
    "        column1 = [row for row in reader]\n",
    "    content_train = [i[4] for i in column1[1:]] \n",
    "    opinion_train = [i[0] for i in column1[1:]] \n",
    "    print '有 %s 条' % len(content_train)\n",
    "    train = [content_train, opinion_train]\n",
    "    return train\n",
    "\n",
    "train = readtrain()"
   ]
  },
  {
   "cell_type": "code",
   "execution_count": 4,
   "metadata": {
    "collapsed": true,
    "deletable": true,
    "editable": true
   },
   "outputs": [],
   "source": [
    "def get_ngrams(query):\n",
    "    ngrams = []\n",
    "    text = nltk.word_tokenize(str(query))\n",
    "    for w in text:\n",
    "    \tw=w.lower().lstrip(' ').rstrip(' ').replace(\"u'\",' ')\n",
    "    \tif w[0]==\"'\":\n",
    "    \t\tw=w[1:-1]\n",
    "    \tw=w.lstrip(' ').rstrip(' ')\n",
    "    \tngrams.append(w)\n",
    "    return ngrams"
   ]
  },
  {
   "cell_type": "code",
   "execution_count": 5,
   "metadata": {
    "collapsed": false,
    "deletable": true,
    "editable": true
   },
   "outputs": [],
   "source": [
    "def segmentWord(cont):\n",
    "    c = []\n",
    "    for i in cont:\n",
    "        a = get_ngrams(i)\n",
    "        b = \" \".join(a)\n",
    "        c.append(b)\n",
    "    return c\n",
    "content = segmentWord(train[0])\n"
   ]
  },
  {
   "cell_type": "code",
   "execution_count": 6,
   "metadata": {
    "collapsed": true,
    "deletable": true,
    "editable": true
   },
   "outputs": [],
   "source": [
    "def transLabel(labels):\n",
    "    for i in range(len(labels)):\n",
    "        if labels[i] == 'n':\n",
    "            labels[i] = 1\n",
    "        else:\n",
    "            labels[i]=0\n",
    "    return labels\n",
    "opinion = transLabel(train[1]) \n",
    "opinion = np.array(opinion) \n"
   ]
  },
  {
   "cell_type": "code",
   "execution_count": 7,
   "metadata": {
    "collapsed": false,
    "deletable": true,
    "editable": true
   },
   "outputs": [],
   "source": [
    "train_content = content[:550]\n",
    "train_opinion = opinion[:550]\n",
    "test_content = content[550:]\n",
    "test_opinion = opinion[550:]"
   ]
  },
  {
   "cell_type": "code",
   "execution_count": 8,
   "metadata": {
    "collapsed": false,
    "deletable": true,
    "editable": true
   },
   "outputs": [
    {
     "name": "stdout",
     "output_type": "stream",
     "text": [
      "(550, 3119)\n",
      "(189L, 3119L)\n"
     ]
    }
   ],
   "source": [
    "vectorizer = CountVectorizer()\n",
    "tfidftransformer = TfidfTransformer()\n",
    "tfidf = tfidftransformer.fit_transform(vectorizer.fit_transform(train_content))\n",
    "weight = tfidf.toarray()\n",
    "print tfidf.shape\n",
    "test_tfidf = tfidftransformer.transform(vectorizer.transform(test_content))\n",
    "test_weight = test_tfidf.toarray()\n",
    "print test_weight.shape"
   ]
  },
  {
   "cell_type": "code",
   "execution_count": 11,
   "metadata": {
    "collapsed": false,
    "deletable": true,
    "editable": true
   },
   "outputs": [
    {
     "name": "stdout",
     "output_type": "stream",
     "text": [
      "[0]\ttrain-merror:0.054545\ttest-merror:0.148148\n",
      "[1]\ttrain-merror:0.054545\ttest-merror:0.148148\n",
      "[2]\ttrain-merror:0.054545\ttest-merror:0.148148\n",
      "[3]\ttrain-merror:0.054545\ttest-merror:0.148148\n",
      "[4]\ttrain-merror:0.054545\ttest-merror:0.148148\n",
      "[5]\ttrain-merror:0.054545\ttest-merror:0.148148\n",
      "[6]\ttrain-merror:0.054545\ttest-merror:0.148148\n",
      "[7]\ttrain-merror:0.054545\ttest-merror:0.148148\n",
      "[8]\ttrain-merror:0.054545\ttest-merror:0.148148\n",
      "[9]\ttrain-merror:0.054545\ttest-merror:0.148148\n",
      "[10]\ttrain-merror:0.054545\ttest-merror:0.148148\n",
      "[11]\ttrain-merror:0.054545\ttest-merror:0.148148\n",
      "[12]\ttrain-merror:0.054545\ttest-merror:0.148148\n",
      "[13]\ttrain-merror:0.054545\ttest-merror:0.148148\n",
      "[14]\ttrain-merror:0.054545\ttest-merror:0.148148\n",
      "[15]\ttrain-merror:0.054545\ttest-merror:0.148148\n",
      "[16]\ttrain-merror:0.054545\ttest-merror:0.089947\n",
      "[17]\ttrain-merror:0.054545\ttest-merror:0.148148\n",
      "[18]\ttrain-merror:0.054545\ttest-merror:0.148148\n",
      "[19]\ttrain-merror:0.050909\ttest-merror:0.089947\n",
      "[20]\ttrain-merror:0.054545\ttest-merror:0.089947\n",
      "[21]\ttrain-merror:0.036364\ttest-merror:0.084656\n",
      "[22]\ttrain-merror:0.041818\ttest-merror:0.084656\n",
      "[23]\ttrain-merror:0.041818\ttest-merror:0.084656\n",
      "[24]\ttrain-merror:0.029091\ttest-merror:0.079365\n",
      "[25]\ttrain-merror:0.029091\ttest-merror:0.079365\n",
      "[26]\ttrain-merror:0.029091\ttest-merror:0.079365\n",
      "[27]\ttrain-merror:0.029091\ttest-merror:0.079365\n",
      "[28]\ttrain-merror:0.029091\ttest-merror:0.079365\n",
      "[29]\ttrain-merror:0.027273\ttest-merror:0.079365\n",
      "[30]\ttrain-merror:0.027273\ttest-merror:0.079365\n",
      "[31]\ttrain-merror:0.027273\ttest-merror:0.079365\n",
      "[32]\ttrain-merror:0.027273\ttest-merror:0.079365\n",
      "[33]\ttrain-merror:0.027273\ttest-merror:0.079365\n",
      "[34]\ttrain-merror:0.027273\ttest-merror:0.079365\n",
      "[35]\ttrain-merror:0.025455\ttest-merror:0.074074\n",
      "[36]\ttrain-merror:0.027273\ttest-merror:0.079365\n",
      "[37]\ttrain-merror:0.027273\ttest-merror:0.079365\n",
      "[38]\ttrain-merror:0.027273\ttest-merror:0.079365\n",
      "[39]\ttrain-merror:0.027273\ttest-merror:0.079365\n",
      "[40]\ttrain-merror:0.027273\ttest-merror:0.079365\n",
      "[41]\ttrain-merror:0.025455\ttest-merror:0.074074\n",
      "[42]\ttrain-merror:0.027273\ttest-merror:0.079365\n",
      "[43]\ttrain-merror:0.027273\ttest-merror:0.079365\n",
      "[44]\ttrain-merror:0.027273\ttest-merror:0.079365\n",
      "[45]\ttrain-merror:0.023636\ttest-merror:0.074074\n",
      "[46]\ttrain-merror:0.025455\ttest-merror:0.074074\n",
      "[47]\ttrain-merror:0.025455\ttest-merror:0.074074\n",
      "[48]\ttrain-merror:0.025455\ttest-merror:0.074074\n",
      "[49]\ttrain-merror:0.025455\ttest-merror:0.074074\n",
      "[50]\ttrain-merror:0.023636\ttest-merror:0.074074\n",
      "[51]\ttrain-merror:0.025455\ttest-merror:0.074074\n"
     ]
    }
   ],
   "source": [
    "dtrain = xgb.DMatrix(weight, label=train_opinion)\n",
    "dtest = xgb.DMatrix(test_weight, label=test_opinion)\n",
    "param = {'max_depth':7, 'eta':0.1, 'eval_metric':'merror', 'silent':1, 'objective':'multi:softmax', 'num_class':2}  \n",
    "evallist  = [(dtrain,'train'), (dtest,'test')]  \n",
    "num_round = 52  \n",
    "bst = xgb.train(param, dtrain, num_round, evallist)\n",
    "preds = bst.predict(dtest)"
   ]
  },
  {
   "cell_type": "code",
   "execution_count": null,
   "metadata": {
    "collapsed": true,
    "deletable": true,
    "editable": true
   },
   "outputs": [],
   "source": []
  }
 ],
 "metadata": {
  "kernelspec": {
   "display_name": "Python 3",
   "language": "python",
   "name": "python3"
  },
  "language_info": {
   "codemirror_mode": {
    "name": "ipython",
    "version": 3
   },
   "file_extension": ".py",
   "mimetype": "text/x-python",
   "name": "python",
   "nbconvert_exporter": "python",
   "pygments_lexer": "ipython3",
   "version": "3.6.0"
  }
 },
 "nbformat": 4,
 "nbformat_minor": 2
}
