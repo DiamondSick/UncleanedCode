{
 "cells": [
  {
   "cell_type": "code",
   "execution_count": 3,
   "metadata": {
    "collapsed": true,
    "deletable": true,
    "editable": true
   },
   "outputs": [],
   "source": [
    "import pandas as pd\n",
    "from math import log,sqrt"
   ]
  },
  {
   "cell_type": "code",
   "execution_count": 65,
   "metadata": {
    "collapsed": false,
    "deletable": true,
    "editable": true
   },
   "outputs": [
    {
     "data": {
      "text/plain": [
       "Index([u'AGENT', u'IS_LOCAL', u'EDU_LEVEL', u'MARRY_STATUS', u'SALARY',\n",
       "       u'HAS_FUND', u'times', u'GENDER', u'Y_counts', u'IS_CHEAT', u'Rank',\n",
       "       u'B_Rank'],\n",
       "      dtype='object')"
      ]
     },
     "execution_count": 65,
     "metadata": {},
     "output_type": "execute_result"
    }
   ],
   "source": [
    "df.drop('Unnamed: 0',axis=1,inplace=True)\n",
    "df.drop('ID_CARD',axis=1,inplace=True)\n",
    "df.drop('LOAN_DATE',axis=1,inplace=True)\n",
    "df.drop('Y',axis=1,inplace=True)\n",
    "df.drop('EDU_counts',axis=1,inplace=True)\n",
    "df.drop('MARRY_counts',axis=1,inplace=True)\n",
    "df.drop('WORK_PROVINCE_counts',axis=1,inplace=True)\n",
    "df.drop('timediff',axis=1,inplace=True)\n",
    "df.drop('WORK_PROVINCE',axis=1,inplace=True)\n",
    "df.drop('BIRTH',axis=1,inplace=True)\n",
    "df.columns"
   ]
  },
  {
   "cell_type": "code",
   "execution_count": 23,
   "metadata": {
    "collapsed": false,
    "deletable": true,
    "editable": true
   },
   "outputs": [],
   "source": [
    "#df.to_csv(\"F:\\contest\\MCM\\Renew.csv\",index=None)\n",
    "df=pd.read_csv(\"F:\\contest\\MCM\\Renew.csv\")\n",
    "col=df.columns"
   ]
  },
  {
   "cell_type": "code",
   "execution_count": 62,
   "metadata": {
    "collapsed": false,
    "deletable": true,
    "editable": true
   },
   "outputs": [],
   "source": [
    "def mycorr(n1,n2,data):\n",
    "    ea=0.0\n",
    "    eb=0.0\n",
    "    gain=0.0\n",
    "    eab=0.0\n",
    "    \n",
    "    temp=data[n1].value_counts()\n",
    "    total=sum(temp)\n",
    "    temp=dict(temp)\n",
    "    for k,v in temp.items():\n",
    "        p=float(v)/total\n",
    "        ea+=-p*log(p,2)\n",
    "    \n",
    "    temp=data[n2].value_counts()\n",
    "    total=sum(temp)\n",
    "    temp=dict(temp)\n",
    "    for k,v in temp.items():\n",
    "        p=float(v)/total\n",
    "        eb+=-p*log(p,2)\n",
    "    \n",
    "    for k,v in temp.items():\n",
    "        subset=df[df[n2]==k]\n",
    "        coef=float(v)/total\n",
    "        tempinsub=subset[n1].value_counts()\n",
    "        totalinsub=sum(tempinsub)\n",
    "        tempinsub=dict(tempinsub)\n",
    "        eainsub=0.0\n",
    "        for K,V in tempinsub.items():\n",
    "            p=float(V)/totalinsub\n",
    "            eainsub+=-p*log(p,2)\n",
    "        eab+=coef*eainsub    \n",
    "        \n",
    "    gain=ea-eab\n",
    "    return gain/sqrt(ea*eb)     "
   ]
  },
  {
   "cell_type": "code",
   "execution_count": 44,
   "metadata": {
    "collapsed": false,
    "deletable": true,
    "editable": true
   },
   "outputs": [
    {
     "name": "stdout",
     "output_type": "stream",
     "text": [
      "0.918295834054\n",
      "0.918295834054\n"
     ]
    }
   ],
   "source": [
    "#test\n",
    "print -1.0/3*log(1.0/3,2)-2.0/3*log(2.0/3,2)\n",
    "print -log(1.0/3,2)+2.0/3*log(1.0/2,2)\n",
    "d={'sex':['a','b','c'],'age':['B','C','C']}\n",
    "df=pd.DataFrame(data=d)\n",
    "print mycorr('age','sex',df)\n",
    "print mycorr('sex','age',df)"
   ]
  },
  {
   "cell_type": "code",
   "execution_count": 73,
   "metadata": {
    "collapsed": false,
    "deletable": true,
    "editable": true,
    "scrolled": true
   },
   "outputs": [
    {
     "name": "stdout",
     "output_type": "stream",
     "text": [
      "AGENT\n",
      "IS_LOCAL\n",
      "EDU_LEVEL\n",
      "MARRY_STATUS\n",
      "SALARY\n",
      "HAS_FUND\n",
      "times\n",
      "GENDER\n",
      "Y_counts\n",
      "IS_CHEAT\n",
      "Rank\n",
      "B_Rank\n",
      "[[1.0, 0.0098380672703295632, 0.37947650193357341, 0.017336005318910958, 0.65348122638345651, 0.014851960977910391, 0.0007454399176584775, 0.0013412490322239241, 0.010576781823368636, 0.00041137658447958531, 0.0013438916502658291, 0.00097907939376614306], [0.0098380672703295632, 1.0, 0.004904943518459417, 0.0061037718418479455, 0.0081295655113867871, 0.0022839277312479366, 0.0015030464150789628, 0.0014499213762614134, 0.0014579099390936031, 0.00067036974038628199, 0.0019829562093530771, 0.0088303889607809598], [0.37947650193357318, 0.004904943518459417, 1.0, 0.041447281680199101, 0.32430769323788478, 0.026332984647034409, 0.0010428041264368341, 0.0015572207754779223, 0.0067875563136519049, 0.0012172911474143619, 0.0031137001360306091, 0.0023574221166439229], [0.017336005318911142, 0.0061037718418479455, 0.041447281680199226, 1.0, 0.020475931242192779, 0.00089899918996247418, 0.0014545371353990757, 0.0045096596749760976, 0.0012067576722426968, 0.0018193509933974064, 0.00034053795158749323, 0.00079377794695166353], [0.65348122638345618, 0.0081295655113866969, 0.32430769323788483, 0.020475931242192779, 1.0, 0.010822419340199499, 0.0013023855388839501, 0.0012973500869491682, 0.011885577427894116, 0.001048120102219953, 0.0029086537808527381, 0.0016055341107845077], [0.014851960977910287, 0.0022839277312478243, 0.026332984647034409, 0.00089899918996247418, 0.010822419340199589, 1.0, 0.00026371421277136109, 0.00088611690370964385, 0.0002776267467757182, 0.00018760115153706178, 0.00019422438278046548, 0.00016269801799727063], [0.00074543991765814454, 0.0015030464150786913, 0.0010428041264368341, 0.0014545371353992345, 0.0013023855388839501, 0.00026371421277181028, 1.0, 0.028058285777999424, 0.025300257985359415, 0.38971836836085744, 0.0041819201484159475, 0.0073553858047407591], [0.0013412490322238138, 0.0014499213762611733, 0.0015572207754778467, 0.0045096596749760976, 0.0012973500869493575, 0.00088611690370952469, 0.028058285777999039, 1.0, 0.0063578183382990757, 0.023399339242833418, 0.002032429582188227, 0.0015593647048484658], [0.010576781823368112, 0.0014579099390933589, 0.0067875563136519561, 0.001206757672242411, 0.011885577427894244, 0.00027762674677628382, 0.025300257985359544, 0.006357818338299335, 1.0, 0.01477128801410621, 0.021668289374435629, 0.02212993022992667], [0.0004113765844797004, 0.00067036974038615688, 0.0012172911474145199, 0.001819350993397077, 0.0010481201022200519, 0.00018760115153743442, 0.38971836836085738, 0.023399339242833685, 0.01477128801410621, 1.0, 0.002034040665771778, 0.0026262440628944113], [0.0013438916502658291, 0.0019829562093526655, 0.0031137001360307826, 0.00034053795158701185, 0.0029086537808526297, 0.00019422438278046548, 0.0041819201484156188, 0.0020324295821885175, 0.021668289374435629, 0.0020340406657713235, 1.0, 0.52749313160121369], [0.0009790793937659002, 0.0088303889607808279, 0.0023574221166441731, 0.00079377794695166353, 0.0016055341107844036, 0.00016269801799753268, 0.0073553858047406533, 0.0015593647048487453, 0.022129930229926768, 0.0026262440628942656, 0.52749313160121369, 1.0]]\n"
     ]
    }
   ],
   "source": [
    "col=df.columns\n",
    "length=len(col)\n",
    "result=[[],[],[],[],[],[],[],[],[],[],[],[]]\n",
    "for i in range(length):\n",
    "    print col[i]\n",
    "    for j in range(length):\n",
    "        result[i].append(mycorr(col[i],col[j],df))\n",
    "print result"
   ]
  },
  {
   "cell_type": "code",
   "execution_count": 74,
   "metadata": {
    "collapsed": false,
    "deletable": true,
    "editable": true
   },
   "outputs": [],
   "source": [
    "%matplotlib inline\n",
    "import matplotlib.pyplot as plt\n",
    "import seaborn as sb"
   ]
  },
  {
   "cell_type": "code",
   "execution_count": 77,
   "metadata": {
    "collapsed": true,
    "deletable": true,
    "editable": true
   },
   "outputs": [],
   "source": [
    "import numpy as np"
   ]
  },
  {
   "cell_type": "code",
   "execution_count": 79,
   "metadata": {
    "collapsed": false,
    "deletable": true,
    "editable": true
   },
   "outputs": [
    {
     "data": {
      "text/plain": [
       "<matplotlib.text.Text at 0x1df6dda0>"
      ]
     },
     "execution_count": 79,
     "metadata": {},
     "output_type": "execute_result"
    },
    {
     "data": {
      "image/png": "[encoded data removed]",
      "text/plain": [
       "<matplotlib.figure.Figure at 0x1df71cf8>"
      ]
     },
     "metadata": {},
     "output_type": "display_data"
    }
   ],
   "source": [
    "\n",
    "sb.heatmap(result,cmap='Blues')\n",
    "ticks=['f'+str(i) for i in range(1,13)]\n",
    "plt.xticks(np.arange(12)+0.5,ticks)\n",
    "plt.yticks(np.arange(12)+0.5,ticks)\n",
    "plt.xlabel('features')\n",
    "plt.ylabel('features')"
   ]
  },
  {
   "cell_type": "code",
   "execution_count": 80,
   "metadata": {
    "collapsed": true,
    "deletable": true,
    "editable": true
   },
   "outputs": [],
   "source": [
    "d={}\n",
    "for i in range(len(col)):\n",
    "    d[col[i]]=result[i]\n",
    "df=pd.DataFrame(data=d,index=col)\n",
    "    "
   ]
  },
  {
   "cell_type": "code",
   "execution_count": 84,
   "metadata": {
    "collapsed": false,
    "deletable": true,
    "editable": true
   },
   "outputs": [],
   "source": [
    "df.to_csv(\"F:\\contest\\MCM\\correlate.csv\")"
   ]
  },
  {
   "cell_type": "code",
   "execution_count": 87,
   "metadata": {
    "collapsed": false,
    "deletable": true,
    "editable": true
   },
   "outputs": [
    {
     "name": "stdout",
     "output_type": "stream",
     "text": [
      "[0.0098380672703295632, 0.37947650193357341, 0.017336005318910958, 0.65348122638345651, 0.014851960977910391, 0.0007454399176584775, 0.0013412490322239241, 0.010576781823368636, 0.00041137658447958531, 0.0013438916502658291, 0.00097907939376614306, 0.004904943518459417, 0.0061037718418479455, 0.0081295655113867871, 0.0022839277312479366, 0.0015030464150789628, 0.0014499213762614134, 0.0014579099390936031, 0.00067036974038628199, 0.0019829562093530771, 0.0088303889607809598, 0.041447281680199101, 0.32430769323788478, 0.026332984647034409, 0.0010428041264368341, 0.0015572207754779223, 0.0067875563136519049, 0.0012172911474143619, 0.0031137001360306091, 0.0023574221166439229, 0.020475931242192779, 0.00089899918996247418, 0.0014545371353990757, 0.0045096596749760976, 0.0012067576722426968, 0.0018193509933974064, 0.00034053795158749323, 0.00079377794695166353, 0.010822419340199499, 0.0013023855388839501, 0.0012973500869491682, 0.011885577427894116, 0.001048120102219953, 0.0029086537808527381, 0.0016055341107845077, 0.00026371421277136109, 0.00088611690370964385, 0.0002776267467757182, 0.00018760115153706178, 0.00019422438278046548, 0.00016269801799727063, 0.028058285777999424, 0.025300257985359415, 0.38971836836085744, 0.0041819201484159475, 0.0073553858047407591, 0.0063578183382990757, 0.023399339242833418, 0.002032429582188227, 0.0015593647048484658, 0.01477128801410621, 0.021668289374435629, 0.02212993022992667, 0.002034040665771778, 0.0026262440628944113, 0.52749313160121369]\n"
     ]
    }
   ],
   "source": [
    "df=pd.read_csv(\"F:\\contest\\MCM\\Renew.csv\")\n",
    "col=df.columns\n",
    "length=len(col)\n",
    "result=[]\n",
    "for i in range(length):\n",
    "    for j in range(i+1,length):\n",
    "        result.append(mycorr(col[i],col[j],df))\n",
    "print result"
   ]
  },
  {
   "cell_type": "code",
   "execution_count": 90,
   "metadata": {
    "collapsed": false,
    "deletable": true,
    "editable": true
   },
   "outputs": [
    {
     "data": {
      "text/html": [
       "<div>\n",
       "<table border=\"1\" class=\"dataframe\">\n",
       "  <thead>\n",
       "    <tr style=\"text-align: right;\">\n",
       "      <th></th>\n",
       "      <th>temp</th>\n",
       "    </tr>\n",
       "  </thead>\n",
       "  <tbody>\n",
       "    <tr>\n",
       "      <th>count</th>\n",
       "      <td>66.000000</td>\n",
       "    </tr>\n",
       "    <tr>\n",
       "      <th>mean</th>\n",
       "      <td>0.040589</td>\n",
       "    </tr>\n",
       "    <tr>\n",
       "      <th>std</th>\n",
       "      <td>0.124348</td>\n",
       "    </tr>\n",
       "    <tr>\n",
       "      <th>min</th>\n",
       "      <td>0.000163</td>\n",
       "    </tr>\n",
       "    <tr>\n",
       "      <th>25%</th>\n",
       "      <td>0.001237</td>\n",
       "    </tr>\n",
       "    <tr>\n",
       "      <th>50%</th>\n",
       "      <td>0.002321</td>\n",
       "    </tr>\n",
       "    <tr>\n",
       "      <th>75%</th>\n",
       "      <td>0.011620</td>\n",
       "    </tr>\n",
       "    <tr>\n",
       "      <th>max</th>\n",
       "      <td>0.653481</td>\n",
       "    </tr>\n",
       "  </tbody>\n",
       "</table>\n",
       "</div>"
      ],
      "text/plain": [
       "            temp\n",
       "count  66.000000\n",
       "mean    0.040589\n",
       "std     0.124348\n",
       "min     0.000163\n",
       "25%     0.001237\n",
       "50%     0.002321\n",
       "75%     0.011620\n",
       "max     0.653481"
      ]
     },
     "execution_count": 90,
     "metadata": {},
     "output_type": "execute_result"
    }
   ],
   "source": [
    "d={'temp':result}\n",
    "df=pd.DataFrame(data=d)\n",
    "df.describe()"
   ]
  },
  {
   "cell_type": "code",
   "execution_count": 102,
   "metadata": {
    "collapsed": false,
    "deletable": true,
    "editable": true
   },
   "outputs": [],
   "source": [
    "r=sorted(result)[59]\n",
    "tt={}\n",
    "for c in col:\n",
    "    tt[c]=0\n",
    "col=df.columns\n",
    "length=len(col)\n",
    "for i in range(length):\n",
    "    for j in range(i+1,length):\n",
    "        temp=mycorr(col[i],col[j],df)\n",
    "        if temp<=r:\n",
    "            tt[col[i]]+=1\n",
    "            tt[col[j]]+=1\n"
   ]
  },
  {
   "cell_type": "code",
   "execution_count": 106,
   "metadata": {
    "collapsed": false,
    "deletable": true,
    "editable": true
   },
   "outputs": [],
   "source": [
    "df=pd.read_csv(\"F:\\contest\\MCM\\Renew.csv\")"
   ]
  },
  {
   "cell_type": "code",
   "execution_count": 109,
   "metadata": {
    "collapsed": false,
    "deletable": true,
    "editable": true
   },
   "outputs": [],
   "source": [
    "re=[]\n",
    "for c in col:\n",
    "    re.append(mycorr(c,'Y',df))"
   ]
  },
  {
   "cell_type": "code",
   "execution_count": 110,
   "metadata": {
    "collapsed": false,
    "deletable": true,
    "editable": true
   },
   "outputs": [
    {
     "data": {
      "text/plain": [
       "[<matplotlib.lines.Line2D at 0x1e8155c0>]"
      ]
     },
     "execution_count": 110,
     "metadata": {},
     "output_type": "execute_result"
    },
    {
     "data": {
      "image/png": "[encoded data removed]",
      "text/plain": [
       "<matplotlib.figure.Figure at 0x1dfa4710>"
      ]
     },
     "metadata": {},
     "output_type": "display_data"
    }
   ],
   "source": [
    "y=sorted(re)\n",
    "x=range(12)\n",
    "plt.plot(x,y)"
   ]
  },
  {
   "cell_type": "code",
   "execution_count": 111,
   "metadata": {
    "collapsed": true,
    "deletable": true,
    "editable": true
   },
   "outputs": [],
   "source": [
    "from sklearn import tree\n",
    "X = df.iloc[:,:-1]\n",
    "Y = df.iloc[:,-1]\n",
    "clf = tree.DecisionTreeClassifier()\n",
    "clf = clf.fit(X, Y)\n"
   ]
  },
  {
   "cell_type": "code",
   "execution_count": 125,
   "metadata": {
    "collapsed": false,
    "deletable": true,
    "editable": true
   },
   "outputs": [
    {
     "ename": "InvocationException",
     "evalue": "GraphViz's executables not found",
     "output_type": "error",
     "traceback": [
      "\u001b[1;31m---------------------------------------------------------------------------\u001b[0m",
      "\u001b[1;31mInvocationException\u001b[0m                       Traceback (most recent call last)",
      "\u001b[1;32m<ipython-input-125-3c780f7d6de8>\u001b[0m in \u001b[0;36m<module>\u001b[1;34m()\u001b[0m\n\u001b[0;32m      6\u001b[0m                          special_characters=True)  \n\u001b[0;32m      7\u001b[0m \u001b[0mgraph\u001b[0m \u001b[1;33m=\u001b[0m \u001b[0mpydotplus\u001b[0m\u001b[1;33m.\u001b[0m\u001b[0mgraph_from_dot_data\u001b[0m\u001b[1;33m(\u001b[0m\u001b[0mdot_data\u001b[0m\u001b[1;33m)\u001b[0m\u001b[1;33m\u001b[0m\u001b[0m\n\u001b[1;32m----> 8\u001b[1;33m \u001b[0mImage\u001b[0m\u001b[1;33m(\u001b[0m\u001b[0mgraph\u001b[0m\u001b[1;33m.\u001b[0m\u001b[0mcreate_png\u001b[0m\u001b[1;33m(\u001b[0m\u001b[1;33m)\u001b[0m\u001b[1;33m)\u001b[0m\u001b[1;33m\u001b[0m\u001b[0m\n\u001b[0m",
      "\u001b[1;32mc:\\python27\\lib\\site-packages\\pydotplus\\graphviz.pyc\u001b[0m in \u001b[0;36m<lambda>\u001b[1;34m(f, prog)\u001b[0m\n\u001b[0;32m   1795\u001b[0m             self.__setattr__(\n\u001b[0;32m   1796\u001b[0m                 \u001b[1;34m'create_'\u001b[0m \u001b[1;33m+\u001b[0m \u001b[0mfrmt\u001b[0m\u001b[1;33m,\u001b[0m\u001b[1;33m\u001b[0m\u001b[0m\n\u001b[1;32m-> 1797\u001b[1;33m                 \u001b[1;32mlambda\u001b[0m \u001b[0mf\u001b[0m\u001b[1;33m=\u001b[0m\u001b[0mfrmt\u001b[0m\u001b[1;33m,\u001b[0m \u001b[0mprog\u001b[0m\u001b[1;33m=\u001b[0m\u001b[0mself\u001b[0m\u001b[1;33m.\u001b[0m\u001b[0mprog\u001b[0m\u001b[1;33m:\u001b[0m \u001b[0mself\u001b[0m\u001b[1;33m.\u001b[0m\u001b[0mcreate\u001b[0m\u001b[1;33m(\u001b[0m\u001b[0mformat\u001b[0m\u001b[1;33m=\u001b[0m\u001b[0mf\u001b[0m\u001b[1;33m,\u001b[0m \u001b[0mprog\u001b[0m\u001b[1;33m=\u001b[0m\u001b[0mprog\u001b[0m\u001b[1;33m)\u001b[0m\u001b[1;33m\u001b[0m\u001b[0m\n\u001b[0m\u001b[0;32m   1798\u001b[0m             )\n\u001b[0;32m   1799\u001b[0m             \u001b[0mf\u001b[0m \u001b[1;33m=\u001b[0m \u001b[0mself\u001b[0m\u001b[1;33m.\u001b[0m\u001b[0m__dict__\u001b[0m\u001b[1;33m[\u001b[0m\u001b[1;34m'create_'\u001b[0m \u001b[1;33m+\u001b[0m \u001b[0mfrmt\u001b[0m\u001b[1;33m]\u001b[0m\u001b[1;33m\u001b[0m\u001b[0m\n",
      "\u001b[1;32mc:\\python27\\lib\\site-packages\\pydotplus\\graphviz.pyc\u001b[0m in \u001b[0;36mcreate\u001b[1;34m(self, prog, format)\u001b[0m\n\u001b[0;32m   1958\u001b[0m             \u001b[1;32mif\u001b[0m \u001b[0mself\u001b[0m\u001b[1;33m.\u001b[0m\u001b[0mprogs\u001b[0m \u001b[1;32mis\u001b[0m \u001b[0mNone\u001b[0m\u001b[1;33m:\u001b[0m\u001b[1;33m\u001b[0m\u001b[0m\n\u001b[0;32m   1959\u001b[0m                 raise InvocationException(\n\u001b[1;32m-> 1960\u001b[1;33m                     'GraphViz\\'s executables not found')\n\u001b[0m\u001b[0;32m   1961\u001b[0m \u001b[1;33m\u001b[0m\u001b[0m\n\u001b[0;32m   1962\u001b[0m         \u001b[1;32mif\u001b[0m \u001b[0mprog\u001b[0m \u001b[1;32mnot\u001b[0m \u001b[1;32min\u001b[0m \u001b[0mself\u001b[0m\u001b[1;33m.\u001b[0m\u001b[0mprogs\u001b[0m\u001b[1;33m:\u001b[0m\u001b[1;33m\u001b[0m\u001b[0m\n",
      "\u001b[1;31mInvocationException\u001b[0m: GraphViz's executables not found"
     ]
    }
   ],
   "source": [
    "from IPython.display import Image  \n",
    "dot_data = tree.export_graphviz(clf, out_file=None, \n",
    "                         feature_names=col,  \n",
    "                         class_names=['0','1'],\n",
    "                         filled=True, rounded=True,  \n",
    "                         special_characters=True)  \n",
    "graph = pydotplus.graph_from_dot_data(dot_data)  \n",
    "Image(graph.create_png()) \n"
   ]
  },
  {
   "cell_type": "code",
   "execution_count": 136,
   "metadata": {
    "collapsed": false,
    "deletable": true,
    "editable": true
   },
   "outputs": [
    {
     "data": {
      "text/plain": [
       "array([ 0.01628475,  0.01005968,  0.0269215 ,  0.01508363,  0.01387811,\n",
       "        0.01424989,  0.13864186,  0.0071203 ,  0.72876715,  0.01571574,\n",
       "        0.00591124,  0.00736616])"
      ]
     },
     "execution_count": 136,
     "metadata": {},
     "output_type": "execute_result"
    }
   ],
   "source": [
    "clf.feature_importances_"
   ]
  },
  {
   "cell_type": "code",
   "execution_count": 5,
   "metadata": {
    "collapsed": false,
    "deletable": true,
    "editable": true
   },
   "outputs": [
    {
     "data": {
      "text/html": [
       "<div>\n",
       "<table border=\"1\" class=\"dataframe\">\n",
       "  <thead>\n",
       "    <tr style=\"text-align: right;\">\n",
       "      <th></th>\n",
       "      <th>AGENT</th>\n",
       "      <th>IS_LOCAL</th>\n",
       "      <th>EDU_LEVEL</th>\n",
       "      <th>MARRY_STATUS</th>\n",
       "      <th>SALARY</th>\n",
       "      <th>HAS_FUND</th>\n",
       "      <th>times</th>\n",
       "      <th>GENDER</th>\n",
       "      <th>Y_counts</th>\n",
       "      <th>IS_CHEAT</th>\n",
       "      <th>Rank</th>\n",
       "      <th>B_Rank</th>\n",
       "      <th>Y</th>\n",
       "    </tr>\n",
       "  </thead>\n",
       "  <tbody>\n",
       "    <tr>\n",
       "      <th>0</th>\n",
       "      <td>1</td>\n",
       "      <td>0</td>\n",
       "      <td>0</td>\n",
       "      <td>5</td>\n",
       "      <td>3</td>\n",
       "      <td>0</td>\n",
       "      <td>4</td>\n",
       "      <td>1</td>\n",
       "      <td>1</td>\n",
       "      <td>1</td>\n",
       "      <td>1</td>\n",
       "      <td>1</td>\n",
       "      <td>0</td>\n",
       "    </tr>\n",
       "    <tr>\n",
       "      <th>1</th>\n",
       "      <td>3</td>\n",
       "      <td>0</td>\n",
       "      <td>-1</td>\n",
       "      <td>5</td>\n",
       "      <td>6</td>\n",
       "      <td>1</td>\n",
       "      <td>2</td>\n",
       "      <td>0</td>\n",
       "      <td>0</td>\n",
       "      <td>0</td>\n",
       "      <td>2</td>\n",
       "      <td>2</td>\n",
       "      <td>0</td>\n",
       "    </tr>\n",
       "    <tr>\n",
       "      <th>2</th>\n",
       "      <td>1</td>\n",
       "      <td>0</td>\n",
       "      <td>6</td>\n",
       "      <td>5</td>\n",
       "      <td>4</td>\n",
       "      <td>0</td>\n",
       "      <td>2</td>\n",
       "      <td>1</td>\n",
       "      <td>0</td>\n",
       "      <td>0</td>\n",
       "      <td>1</td>\n",
       "      <td>1</td>\n",
       "      <td>0</td>\n",
       "    </tr>\n",
       "    <tr>\n",
       "      <th>3</th>\n",
       "      <td>1</td>\n",
       "      <td>0</td>\n",
       "      <td>6</td>\n",
       "      <td>5</td>\n",
       "      <td>2</td>\n",
       "      <td>0</td>\n",
       "      <td>2</td>\n",
       "      <td>0</td>\n",
       "      <td>1</td>\n",
       "      <td>0</td>\n",
       "      <td>2</td>\n",
       "      <td>2</td>\n",
       "      <td>1</td>\n",
       "    </tr>\n",
       "    <tr>\n",
       "      <th>4</th>\n",
       "      <td>-1</td>\n",
       "      <td>0</td>\n",
       "      <td>5</td>\n",
       "      <td>4</td>\n",
       "      <td>-1</td>\n",
       "      <td>1</td>\n",
       "      <td>1</td>\n",
       "      <td>0</td>\n",
       "      <td>0</td>\n",
       "      <td>0</td>\n",
       "      <td>1</td>\n",
       "      <td>1</td>\n",
       "      <td>0</td>\n",
       "    </tr>\n",
       "  </tbody>\n",
       "</table>\n",
       "</div>"
      ],
      "text/plain": [
       "   AGENT  IS_LOCAL  EDU_LEVEL  MARRY_STATUS  SALARY  HAS_FUND  times  GENDER  \\\n",
       "0      1         0          0             5       3         0      4       1   \n",
       "1      3         0         -1             5       6         1      2       0   \n",
       "2      1         0          6             5       4         0      2       1   \n",
       "3      1         0          6             5       2         0      2       0   \n",
       "4     -1         0          5             4      -1         1      1       0   \n",
       "\n",
       "   Y_counts  IS_CHEAT  Rank  B_Rank  Y  \n",
       "0         1         1     1       1  0  \n",
       "1         0         0     2       2  0  \n",
       "2         0         0     1       1  0  \n",
       "3         1         0     2       2  1  \n",
       "4         0         0     1       1  0  "
      ]
     },
     "execution_count": 5,
     "metadata": {},
     "output_type": "execute_result"
    }
   ],
   "source": [
    "df.head()"
   ]
  },
  {
   "cell_type": "code",
   "execution_count": 24,
   "metadata": {
    "collapsed": false
   },
   "outputs": [
    {
     "name": "stdout",
     "output_type": "stream",
     "text": [
      "AGENT 5 2\n",
      "8.18944112019\n",
      "IS_LOCAL 2 2\n",
      "8.35719959412\n",
      "EDU_LEVEL 8 2\n",
      "6.89341361001\n",
      "MARRY_STATUS 6 2\n",
      "8.06459733498\n",
      "SALARY 8 2\n",
      "7.77638312568\n",
      "HAS_FUND 2 2\n",
      "8.34188316454\n",
      "times 10 2\n",
      "7.80067544256\n",
      "GENDER 2 2\n",
      "8.46315652813\n",
      "Y_counts 4 2\n",
      "9.11833531586\n",
      "IS_CHEAT 5 2\n",
      "8.5329384178\n",
      "Rank 3 2\n",
      "8.67667068554\n",
      "B_Rank 2 2\n",
      "8.62412819923\n",
      "Y 2 2\n",
      "9.33613842296\n"
     ]
    }
   ],
   "source": [
    "\n",
    "def MI(f1,f2,data,total):\n",
    "    MI=0.0\n",
    "    X=data[f1].value_counts()\n",
    "    Y=data[f2].value_counts()\n",
    "    x_v=data[f1].values\n",
    "    y_v=data[f2].values\n",
    "    print len(X),len(Y)\n",
    "    for x in X.keys():\n",
    "        for y in Y.keys():\n",
    "            py=float(Y[y])/total\n",
    "            pxy=len(data[(data[f1]==x)&(data[f2]==y)])/float(total)\n",
    "            if pxy==0:\n",
    "                MI+=0\n",
    "            else:\n",
    "                MI+=pxy*log(pxy/px*py,2)\n",
    "    return MI\n",
    "    \n",
    "    \n",
    "# MI=0.0    \n",
    "# total=df.shape[0]\n",
    "# agent=df.AGENT.value_counts()\n",
    "# Y=df.Y.value_counts()\n",
    "# a_v=df.AGENT.values\n",
    "# y_v=df.AGENT.values\n",
    "# for x in agent.keys():\n",
    "#     px=float(agent[x])/total\n",
    "#     for y in Y.keys():\n",
    "#         py=float(Y[y])/total\n",
    "#         pxy=len(df[(df.AGENT==x)&(df.Y==y)])/float(total)\n",
    "#         if pxy==0:\n",
    "#             MI+=0\n",
    "#         else:\n",
    "#             MI+=pxy*log(pxy/px*py,2)\n",
    "# print MI\n",
    "for c in col:\n",
    "    print c,MI(c,'Y',df,df.shape[0]) \n",
    "      \n",
    "        \n",
    "        "
   ]
  },
  {
   "cell_type": "code",
   "execution_count": 6,
   "metadata": {
    "collapsed": false
   },
   "outputs": [
    {
     "data": {
      "text/plain": [
       "13"
      ]
     },
     "execution_count": 6,
     "metadata": {},
     "output_type": "execute_result"
    }
   ],
   "source": [
    "df.shape[1]"
   ]
  }
 ],
 "metadata": {
  "kernelspec": {
   "display_name": "Python 2",
   "language": "python",
   "name": "python2"
  },
  "language_info": {
   "codemirror_mode": {
    "name": "ipython",
    "version": 2
   },
   "file_extension": ".py",
   "mimetype": "text/x-python",
   "name": "python",
   "nbconvert_exporter": "python",
   "pygments_lexer": "ipython2",
   "version": "2.7.13"
  }
 },
 "nbformat": 4,
 "nbformat_minor": 2
}
