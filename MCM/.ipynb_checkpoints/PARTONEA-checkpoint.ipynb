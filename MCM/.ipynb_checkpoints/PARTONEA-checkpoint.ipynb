{
 "cells": [
  {
   "cell_type": "code",
   "execution_count": 1,
   "metadata": {
    "collapsed": true,
    "deletable": true,
    "editable": true
   },
   "outputs": [],
   "source": [
    "import pandas as pd"
   ]
  },
  {
   "cell_type": "code",
   "execution_count": 67,
   "metadata": {
    "collapsed": true,
    "deletable": true,
    "editable": true
   },
   "outputs": [],
   "source": [
    "p=pd.read_csv('description.csv')"
   ]
  },
  {
   "cell_type": "code",
   "execution_count": 92,
   "metadata": {
    "collapsed": false,
    "deletable": true,
    "editable": true
   },
   "outputs": [],
   "source": [
    "p=pd.read_csv('description.csv')\n",
    "p.Description=p.Description.apply(lambda x:x.lower())\n",
    "p['is']=p['Description'].apply(lambda x:judgere(x))\n",
    "p=p[p['is']==1]\n",
    "p.to_csv('renew.csv',index=None)\n",
    "\n",
    "p=pd.read_csv('description.csv')\n",
    "p.Description=p.Description.apply(lambda x:x.lower())\n",
    "p['is']=p['Description'].apply(lambda x:judgenon(x))\n",
    "p=p[p['is']==1]\n",
    "p.to_csv('nonnew.csv',index=None)"
   ]
  },
  {
   "cell_type": "code",
   "execution_count": 91,
   "metadata": {
    "collapsed": false,
    "deletable": true,
    "editable": true
   },
   "outputs": [],
   "source": [
    "def judgere(x):\n",
    "    for item in renewable:\n",
    "        if item in x:\n",
    "            return 1\n",
    "    return 0\n",
    "def judgenon(x):\n",
    "    for item in nonrenewable:\n",
    "        if item in x:\n",
    "            return 1\n",
    "    return 0"
   ]
  },
  {
   "cell_type": "code",
   "execution_count": 78,
   "metadata": {
    "collapsed": true,
    "deletable": true,
    "editable": true
   },
   "outputs": [],
   "source": [
    "p=pd.read_csv('description.csv')\n",
    "p.Description=p.Description.apply(lambda x:x.lower())"
   ]
  },
  {
   "cell_type": "code",
   "execution_count": 80,
   "metadata": {
    "collapsed": false,
    "deletable": true,
    "editable": true
   },
   "outputs": [],
   "source": [
    "p.to_csv('nonnew.csv',index=None)"
   ]
  },
  {
   "cell_type": "code",
   "execution_count": 114,
   "metadata": {
    "collapsed": false,
    "deletable": true,
    "editable": true
   },
   "outputs": [
    {
     "name": "stdout",
     "output_type": "stream",
     "text": [
      "AZ\n",
      "2.01628436609\n",
      "1.58010932322\n",
      "0.752851048502\n",
      "1.10450984997\n",
      "0.739477148779\n",
      "TX\n",
      "0.8896333196\n",
      "0.964102928779\n",
      "1.83433400676\n",
      "0.722325423274\n",
      "15.2482049428\n",
      "CA\n",
      "2.15425347487\n",
      "1.17568798622\n",
      "0.89728520635\n",
      "1.29307960354\n",
      "0.822638383692\n",
      "NM\n",
      "0.925656151536\n",
      "1.41658451479\n",
      "2.18614494908\n",
      "1.05570440245\n",
      "7.86382548131\n"
     ]
    }
   ],
   "source": [
    "#清洁能源每个十年统计\n",
    "interval=[1960,1970,1980,1990,2000,2009]\n",
    "state=['AZ','TX','CA','NM']\n",
    "\n",
    "# for s in state:\n",
    "#     t=[]\n",
    "#     print s\n",
    "#     df=pd.read_csv(s+'.csv')\n",
    "#     consumption=['BMTCB','SOTCB','GETCB','NGLPB','GECCB','GOCCB','GEICB','PLICB','GERCB','GORCB','SOTXB']\n",
    "#     totalconsumption=[]\n",
    "#     for y in interval:\n",
    "#         data=df[(df.Year==y)&(df.MSN.isin(consumption))]\n",
    "#         t.append(sum(data['Data']))\n",
    "#     for i in range(len(t)-1):\n",
    "#         print t[i+1]/t[i]\n",
    "for s in state:\n",
    "    t=[]\n",
    "    print s\n",
    "    df=pd.read_csv(s+'.csv')\n",
    "    consumption=['HYTCB','WYTCB','HYCCB','GEEGB','HYEGB','SOEGB','WYEGB','HYICB','HYTXB']\n",
    "    totalconsumption=[]\n",
    "    for y in interval:\n",
    "        data=df[(df.Year==y)&(df.MSN.isin(consumption))]\n",
    "        t.append(sum(data['Data']))\n",
    "    for i in range(len(t)-1):\n",
    "        print t[i+1]/t[i]\n",
    "# for s in state:\n",
    "#     print s\n",
    "#     df=pd.read_csv(s+'.csv')\n",
    "#     consumption=['HYTCB','WYTCB','HYCCB','GEEGB','HYEGB'+'SOEGB'+'WYEGB','HYICB','HYTXB']\n",
    "#     totalconsumption=[]\n",
    "#     for y in interval:\n",
    "#         data=df[(df.Year==y)&(df.MSN.isin(consumption))]\n",
    "#         print y,sum(data['Data'])"
   ]
  },
  {
   "cell_type": "code",
   "execution_count": 129,
   "metadata": {
    "collapsed": false,
    "deletable": true,
    "editable": true
   },
   "outputs": [
    {
     "name": "stdout",
     "output_type": "stream",
     "text": [
      "consumption\n",
      "residential 4681.23201\n",
      "industrial 243.70798\n",
      "commercial 83.6213\n",
      "end-use 4594.07203\n",
      "production\n",
      "residential 0.0\n",
      "commercial 0.0\n",
      "end-use 0.0\n",
      "electoric power 63157.3016\n"
     ]
    }
   ],
   "source": [
    "#renewable\n",
    "consumption={'commercial':['GECCB','GOCCB'],'industrial':['GEICB','PLICB'],'residential':['GERCB','GORCB'],'end-use':['SOTXB']}\n",
    "totalcon=df[(df.Year==2009)&(df.MSN=='TETCB')].values[-1][-1]\n",
    "production={'commercial':['HYCCB'],'electoric power':['GEEGB','HYEGB','SOEGB','WYEGB'],'residential':['HYICB'],'end-use':['HYTXB']}\n",
    "totalpro=df[(df.Year==2009)&(df.MSN=='TEPRB')].values[-1][-1]\n",
    "print \"consumption\"\n",
    "for k,v in consumption.items():\n",
    "    data=df[(df.MSN.isin(v))&(df.Year==2009)]\n",
    "    print k,sum(data['Data'])\n",
    "print \"production\"\n",
    "for k,v in production.items():\n",
    "    data=df[(df.MSN.isin(v))&(df.Year==2009)]\n",
    "    print k,sum(data['Data'])"
   ]
  },
  {
   "cell_type": "code",
   "execution_count": 3,
   "metadata": {
    "collapsed": false,
    "deletable": true,
    "editable": true
   },
   "outputs": [],
   "source": [
    "df=pd.read_csv('raw.csv')"
   ]
  },
  {
   "cell_type": "code",
   "execution_count": 13,
   "metadata": {
    "collapsed": false,
    "deletable": true,
    "editable": true
   },
   "outputs": [
    {
     "name": "stdout",
     "output_type": "stream",
     "text": [
      "AZ 1960 36737.34015\n",
      "AZ 1970 83347.03073\n",
      "AZ 1980 363380.4378\n",
      "AZ 1990 564694.3303\n",
      "AZ 2000 705499.6313\n",
      "AZ 2009 570994.0459\n",
      "TX 1960 12066646.23\n",
      "TX 1970 16716143.86\n",
      "TX 1980 14086283.08\n",
      "TX 1990 12243166.7\n",
      "TX 2000 11271703.92\n",
      "TX 2009 11914996.72\n",
      "CA 1960 2630898.346\n",
      "CA 1970 3454684.988\n",
      "CA 1980 3057954.305\n",
      "CA 1990 3452433.585\n",
      "CA 2000 3270862.915\n",
      "CA 2009 2605311.838\n",
      "NM 1960 1562831.02\n",
      "NM 1970 2208469.599\n",
      "NM 1980 2117463.156\n",
      "NM 1990 1978607.275\n",
      "NM 2000 2728386.896\n",
      "NM 2009 2412219.049\n"
     ]
    }
   ],
   "source": [
    "# 十年间隔total end-use\n",
    "interval=[1960,1970,1980,1990,2000,2009]\n",
    "state=['AZ','TX','CA','NM']\n",
    "for s in state:\n",
    "    t=[]\n",
    "    df=pd.read_csv(s+'.csv')\n",
    "    for y in interval:\n",
    "        print s,y,sum(df[(df.Year==y)&(df.MSN=='TEPRB')].Data)"
   ]
  },
  {
   "cell_type": "code",
   "execution_count": 54,
   "metadata": {
    "collapsed": false
   },
   "outputs": [
    {
     "name": "stdout",
     "output_type": "stream",
     "text": [
      "AZ 1960 -51.12711\n",
      "AZ 1970 -175.27362\n",
      "AZ 1980 -138.32248\n",
      "AZ 1990 -7.07649\n",
      "AZ 2000 161.1044\n",
      "AZ 2009 -788.28411\n",
      "TX 1960 -598.34896\n",
      "TX 1970 -415.9752\n",
      "TX 1980 -1982.16387\n",
      "TX 1990 -216.5767\n",
      "TX 2000 -55.30852\n",
      "TX 2009 375.87227\n",
      "CA 1960 -1363.42483\n",
      "CA 1970 -36.7152\n",
      "CA 1980 303.12208\n",
      "CA 1990 15757.96374\n",
      "CA 2000 11536.29272\n",
      "CA 2009 8627.78792\n",
      "NM 1960 0.0\n",
      "NM 1970 0.0\n",
      "NM 1980 0.0\n",
      "NM 1990 0.0\n",
      "NM 2000 0.10236\n",
      "NM 2009 -301.02711\n"
     ]
    }
   ],
   "source": [
    "interval=[1960,1970,1980,1990,2000,2009]\n",
    "state=['AZ','TX','CA','NM']\n",
    "for s in state:\n",
    "    t=[]\n",
    "    df=pd.read_csv(s+'.csv')\n",
    "    for y in interval:\n",
    "        print s,y,sum(df[(df.Year==y)&(df.MSN=='ELIMB')].Data)-sum(df[(df.Year==y)&(df.MSN=='ELEXB')].Data)\n",
    "        "
   ]
  },
  {
   "cell_type": "code",
   "execution_count": 66,
   "metadata": {
    "collapsed": false
   },
   "outputs": [],
   "source": [
    "temp=set('''CLCCB,NGCCB,PACCB,EMCCB,GECCB,HYCCB,SOCCB,WDCCB,WSCCB,ESCCB,LOCCB,CLCCB,NGCCB,PACCB,GECCB,HYCCB,SOCCB,WDCCB,WSCCB,WYCCB,ESCCB,LOCCB,CLICB,NGICB,PAICB,EMICB,EMLCB,GEICB,HYICB,SOICB,WDICB,WSICB,ESICB,LOICB,CLICB,NGICB,PAICB,EMICB,GEICB,HYICB,SOICB,WDICB,WSICB,ESICB,LOICB,WYICB,CLRCB,NGRCB,PARCB,GERCB,SORCB,WDRCB,ESRCB,LORCB,CLACB,NGACB,PAACB,EMACB,ESACB,LOACB,CLACB,NGACB,PAACB,ESACB,LOACB,TEACB,TECCB,TEICB,TERCB'''.split(','))"
   ]
  },
  {
   "cell_type": "code",
   "execution_count": 64,
   "metadata": {
    "collapsed": false
   },
   "outputs": [
    {
     "name": "stdout",
     "output_type": "stream",
     "text": [
      "GECCB\n",
      "HYICB\n",
      "EMLCB\n",
      "EMACB\n",
      "WSICB\n",
      "CLRCB\n",
      "ESACB\n",
      "CLICB\n",
      "GEICB\n",
      "WSCCB\n",
      "EMICB\n",
      "HYCCB\n",
      "EMCCB\n",
      "GERCB\n",
      "LOACB\n",
      "CLCCB\n",
      "CLACB\n"
     ]
    }
   ],
   "source": [
    "a=[]\n",
    "for t in temp:\n",
    "    if multiply(df[df.MSN==t].Data.values)==0:\n",
    "        a.append(t)\n",
    "        print t"
   ]
  },
  {
   "cell_type": "code",
   "execution_count": 42,
   "metadata": {
    "collapsed": false
   },
   "outputs": [],
   "source": [
    "def multiply(x):\n",
    "    ret=1\n",
    "    for i in range(len(x)):\n",
    "        ret*=x[i]\n",
    "    return ret"
   ]
  },
  {
   "cell_type": "code",
   "execution_count": 68,
   "metadata": {
    "collapsed": false
   },
   "outputs": [],
   "source": [
    "state=['AZ','TX','CA','NM']\n",
    "value=[]\n",
    "ret=set()\n",
    "for s in state:\n",
    "    t=[]\n",
    "    df=pd.read_csv(s+'.csv')\n",
    "    value.append(df.values)\n",
    "for i in range(df.shape[0]):\n",
    "    if ((value[0][i][3]==0)&(value[2][i][3]==0)&(value[1][i][3]==0))|((value[0][i][3]!=0)&(value[2][i][3]!=0)&(value[1][i][3]!=0)):\n",
    "        ret.add(value[0][i][0])"
   ]
  },
  {
   "cell_type": "code",
   "execution_count": 78,
   "metadata": {
    "collapsed": false
   },
   "outputs": [
    {
     "name": "stdout",
     "output_type": "stream",
     "text": [
      "AZ 1960 0.0\n",
      "AZ 1970 140.53565\n",
      "AZ 1980 157.90799\n",
      "AZ 1990 0.0\n",
      "AZ 2000 0.0\n",
      "AZ 2009 4630.2502961\n",
      "TX 1960 0.0\n",
      "TX 1970 0.0\n",
      "TX 1980 0.0\n",
      "TX 1990 30.4155816\n",
      "TX 2000 0.0\n",
      "TX 2009 14101.2168462\n",
      "CA 1960 0.66604\n",
      "CA 1970 0.06296\n",
      "CA 1980 0.0\n",
      "CA 1990 300.49418965\n",
      "CA 2000 405.31314101\n",
      "CA 2009 4167.22526649\n",
      "NM 1960 0.0\n",
      "NM 1970 0.0\n",
      "NM 1980 0.0\n",
      "NM 1990 921.68385336\n",
      "NM 2000 819.70073809\n",
      "NM 2009 2315.12514805\n"
     ]
    }
   ],
   "source": [
    "df=pd.read_csv('raw.csv')\n",
    "interval=[1960,1970,1980,1990,2000,2009]\n",
    "name=['HYICB','ENPRP']\n",
    "for s in state:\n",
    "    t=[]\n",
    "    df=pd.read_csv(s+'.csv')\n",
    "    for y in interval:\n",
    "        print s,y,sum(df[(df.Year==y)&(df.MSN==name[0])].Data)+3.539*sum(df[(df.Year==y)&(df.MSN==name[1])].Data)\n",
    "        "
   ]
  },
  {
   "cell_type": "code",
   "execution_count": null,
   "metadata": {
    "collapsed": true
   },
   "outputs": [],
   "source": [
    "df=pd.read_csv('raw.csv')"
   ]
  }
 ],
 "metadata": {
  "kernelspec": {
   "display_name": "Python 2",
   "language": "python",
   "name": "python2"
  },
  "language_info": {
   "codemirror_mode": {
    "name": "ipython",
    "version": 2
   },
   "file_extension": ".py",
   "mimetype": "text/x-python",
   "name": "python",
   "nbconvert_exporter": "python",
   "pygments_lexer": "ipython2",
   "version": "2.7.13"
  }
 },
 "nbformat": 4,
 "nbformat_minor": 2
}
