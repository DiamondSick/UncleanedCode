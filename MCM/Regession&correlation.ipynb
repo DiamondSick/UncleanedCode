{
 "cells": [
  {
   "cell_type": "code",
   "execution_count": 1,
   "metadata": {
    "collapsed": false,
    "deletable": true,
    "editable": true
   },
   "outputs": [],
   "source": [
    "import pandas as pd\n",
    "from math import sqrt"
   ]
  },
  {
   "cell_type": "code",
   "execution_count": 2,
   "metadata": {
    "collapsed": true,
    "deletable": true,
    "editable": true
   },
   "outputs": [],
   "source": [
    "state=['AZ','NM','CA','TX']"
   ]
  },
  {
   "cell_type": "code",
   "execution_count": 3,
   "metadata": {
    "collapsed": false,
    "deletable": true,
    "editable": true
   },
   "outputs": [],
   "source": [
    "def multipl(a,b):\n",
    "    sumofab=0.0\n",
    "    for i in range(len(a)):\n",
    "        temp=a[i]*b[i]\n",
    "        sumofab+=temp\n",
    "    return sumofab\n",
    " \n",
    "def corrcoef(x,y):\n",
    "    n=len(x)\n",
    "    #求和\n",
    "    sum1=sum(x)\n",
    "    sum2=sum(y)\n",
    "    #求乘积之和\n",
    "    sumofxy=multipl(x,y)\n",
    "    #求平方和\n",
    "    sumofx2 = sum([pow(i,2) for i in x])\n",
    "    sumofy2 = sum([pow(j,2) for j in y])\n",
    "    num=sumofxy-(float(sum1)*float(sum2)/n)\n",
    "    #计算皮尔逊相关系数\n",
    "    \n",
    "    den=sqrt((sumofx2-float(sum1**2)/n)*(sumofy2-float(sum2**2)/n))\n",
    "    return num/den"
   ]
  },
  {
   "cell_type": "code",
   "execution_count": 49,
   "metadata": {
    "collapsed": false,
    "deletable": true,
    "editable": true
   },
   "outputs": [
    {
     "name": "stdout",
     "output_type": "stream",
     "text": [
      "*********************\n",
      "renewable\n",
      "Trans 0.949464533838\n",
      "Total 0.916442749987\n",
      "   Recreational goods and vehicles 0.881606112582\n",
      "  Transportation services 0.908663913514\n",
      "  Financial services and insurance 0.888149622331\n",
      "   Recreational goods and vehicles.1 0.885066355972\n",
      "  Transportation services.1 0.91833819313\n",
      "  Financial services and insurance.1 0.896210663146\n",
      "pop 0.957931380535\n"
     ]
    }
   ],
   "source": [
    "vardict={'renewable':['ESCCB','ESICB','ESRCB','ESACB','LOCCB','LOICB','LORCB','LOACB','EMLCB','GECCB','GEICB','GERCB','HYCCB','WDCCB','WDICB','WDRCB']\n",
    "}\n",
    "df=pd.read_csv('CA.csv')\n",
    "ddf=pd.read_csv('CA_g.csv')\n",
    "result={}\n",
    "for k,v in vardict.items():\n",
    "    temp=[]\n",
    "    for i in range(1960,2010):\n",
    "        temp.append(sum(df[(df.MSN.isin(v))&(df.Year==i)].Data))\n",
    "    result[k]=temp\n",
    "for k,v in result.items():\n",
    "    print '*********************'\n",
    "    print k\n",
    "    for c in ddf.columns:\n",
    "        if c!='year':\n",
    "            up=max(ddf[ddf[c]!=0].year)-1960\n",
    "            down=min(ddf[ddf[c]!=0].year)-1960\n",
    "            x=ddf[c].values[down:up]\n",
    "            if corrcoef(x,v[down:up])>0.88:\n",
    "                print c,corrcoef(x,v[down:up])"
   ]
  },
  {
   "cell_type": "code",
   "execution_count": 40,
   "metadata": {
    "collapsed": false,
    "deletable": true,
    "editable": true
   },
   "outputs": [
    {
     "data": {
      "text/plain": [
       "(29, 9)"
      ]
     },
     "execution_count": 40,
     "metadata": {},
     "output_type": "execute_result"
    },
    {
     "name": "stdout",
     "output_type": "stream",
     "text": [
      "\n"
     ]
    }
   ],
   "source": [
    "len(x),len(v)"
   ]
  },
  {
   "cell_type": "code",
   "execution_count": 49,
   "metadata": {
    "collapsed": false,
    "deletable": true,
    "editable": true
   },
   "outputs": [
    {
     "name": "stdout",
     "output_type": "stream",
     "text": [
      "50 50\n",
      "[-18.75412928   0.20005568  -0.0714224    0.20608972]\n"
     ]
    }
   ],
   "source": [
    "vardict={'renewable':['ESCCB','ESICB','ESRCB','ESACB','LOCCB','LOICB','LORCB','LOACB','EMLCB','GECCB','GEICB','GERCB','HYCCB','WDCCB','WDICB','WDRCB']\n",
    "}\n",
    "y=[]\n",
    "x=[]\n",
    "\n",
    "df=pd.read_csv('CA'+'.csv')\n",
    "for i in range(1960,2010):\n",
    "    y.append(sum(df[(df.MSN.isin(v))&(df.Year==i)].Data))\n",
    "    \n",
    "df=pd.read_csv('CA'+'_g.csv')\n",
    "x=df.ix[:,('Trans','   Recreational goods and vehicles','  Financial services and insurance','pop')].values\n",
    "print len(x),len(y)\n",
    "maxo=0\n",
    "for i in range(4):\n",
    "    for j in range(50):\n",
    "        if x[j][i]==0:\n",
    "            if j>maxo:\n",
    "                maxo=j\n",
    "\n",
    "linreg = LinearRegression()\n",
    "model=linreg.fit(x[maxo:][:], y[maxo:])\n",
    "print linreg.coef_*0.01"
   ]
  },
  {
   "cell_type": "code",
   "execution_count": 35,
   "metadata": {
    "collapsed": false,
    "deletable": true,
    "editable": true
   },
   "outputs": [
    {
     "name": "stdout",
     "output_type": "stream",
     "text": [
      "[-290.20738516   24.994655    -15.68054382  164.45172023]\n"
     ]
    }
   ],
   "source": [
    "from sklearn.linear_model import LinearRegression\n"
   ]
  },
  {
   "cell_type": "code",
   "execution_count": 43,
   "metadata": {
    "collapsed": false,
    "deletable": true,
    "editable": true
   },
   "outputs": [
    {
     "data": {
      "text/plain": [
       "array([[    27.6,      0. ,      0. ,   4587. ],\n",
       "       [    27.6,   2927. ,   6604. ,   4737. ],\n",
       "       [    29.8,   3301. ,   7370. ,   4883. ],\n",
       "       [    31.5,   3698. ,   8138. ,   5024. ],\n",
       "       [    32.3,   4328. ,   9168. ,   5161. ],\n",
       "       [    33.3,   4316. ,   9007. ,   5273. ],\n",
       "       [    34.2,   4603. ,   9310. ,   5396. ],\n",
       "       [    35.2,   4871. ,   9864. ,   5510. ],\n",
       "       [    36. ,   5487. ,  10921. ,   5652. ],\n",
       "       [    36.7,   6005. ,  12428. ,   5839. ],\n",
       "       [    37.9,   6731. ,  13528. ,   6029. ],\n",
       "       [    37.4,   6759. ,  14460. ,   6168. ],\n",
       "       [    34.4,   6428. ,  14345. ,   6280. ],\n",
       "       [    32.3,   5637. ,  13140. ,   6343. ]])"
      ]
     },
     "execution_count": 43,
     "metadata": {},
     "output_type": "execute_result"
    }
   ],
   "source": [
    "x[maxo:][:]"
   ]
  }
 ],
 "metadata": {
  "kernelspec": {
   "display_name": "Python 2",
   "language": "python",
   "name": "python2"
  },
  "language_info": {
   "codemirror_mode": {
    "name": "ipython",
    "version": 2
   },
   "file_extension": ".py",
   "mimetype": "text/x-python",
   "name": "python",
   "nbconvert_exporter": "python",
   "pygments_lexer": "ipython2",
   "version": "2.7.13"
  }
 },
 "nbformat": 4,
 "nbformat_minor": 2
}
