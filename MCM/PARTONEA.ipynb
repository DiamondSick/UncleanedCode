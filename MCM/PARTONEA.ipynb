{
 "cells": [
  {
   "cell_type": "code",
   "execution_count": null,
   "metadata": {
    "collapsed": false,
    "deletable": true,
    "editable": true
   },
   "outputs": [],
   "source": [
    "import pandas as pd\n",
    "import matplotlib.pyplot as plt\n",
    "%matplotlib inline"
   ]
  },
  {
   "cell_type": "code",
   "execution_count": null,
   "metadata": {
    "collapsed": false,
    "deletable": true,
    "editable": true
   },
   "outputs": [],
   "source": [
    "p=pd.read_csv('description.csv')"
   ]
  },
  {
   "cell_type": "code",
   "execution_count": null,
   "metadata": {
    "collapsed": true,
    "deletable": true,
    "editable": true
   },
   "outputs": [],
   "source": [
    "p=pd.read_csv('description.csv')\n",
    "p.Description=p.Description.apply(lambda x:x.lower())\n",
    "p['is']=p['Description'].apply(lambda x:judgere(x))\n",
    "p=p[p['is']==1]\n",
    "p.to_csv('renew.csv',index=None)\n",
    "\n",
    "p=pd.read_csv('description.csv')\n",
    "p.Description=p.Description.apply(lambda x:x.lower())\n",
    "p['is']=p['Description'].apply(lambda x:judgenon(x))\n",
    "p=p[p['is']==1]\n",
    "p.to_csv('nonnew.csv',index=None)"
   ]
  },
  {
   "cell_type": "code",
   "execution_count": null,
   "metadata": {
    "collapsed": true,
    "deletable": true,
    "editable": true
   },
   "outputs": [],
   "source": [
    "def judgere(x):\n",
    "    for item in renewable:\n",
    "        if item in x:\n",
    "            return 1\n",
    "    return 0\n",
    "def judgenon(x):\n",
    "    for item in nonrenewable:\n",
    "        if item in x:\n",
    "            return 1\n",
    "    return 0"
   ]
  },
  {
   "cell_type": "code",
   "execution_count": null,
   "metadata": {
    "collapsed": false,
    "deletable": true,
    "editable": true
   },
   "outputs": [],
   "source": [
    "p=pd.read_csv('description.csv')\n",
    "p.Description=p.Description.apply(lambda x:x.lower())"
   ]
  },
  {
   "cell_type": "code",
   "execution_count": null,
   "metadata": {
    "collapsed": true,
    "deletable": true,
    "editable": true
   },
   "outputs": [],
   "source": [
    "p.to_csv('nonnew.csv',index=None)"
   ]
  },
  {
   "cell_type": "code",
   "execution_count": null,
   "metadata": {
    "collapsed": true,
    "deletable": true,
    "editable": true
   },
   "outputs": [],
   "source": [
    "#清洁能源每个十年统计\n",
    "interval=[1960,1970,1980,1990,2000,2009]\n",
    "state=['AZ','TX','CA','NM']\n",
    "\n",
    "for s in state:\n",
    "    t=[]\n",
    "    print s\n",
    "    df=pd.read_csv(s+'.csv')\n",
    "    consumption=['BMTCB','SOTCB','GETCB','NGLPB','GECCB','GOCCB','GEICB','PLICB','GERCB','GORCB','SOTXB']\n",
    "    totalconsumption=[]\n",
    "    for y in interval:\n",
    "        data=df[(df.Year==y)&(df.MSN.isin(consumption))]\n",
    "        t.append(sum(data['Data']))\n",
    "    for i in range(len(t)-1):\n",
    "        print t[i+1]/t[i]\n",
    "for s in state:\n",
    "    t=[]\n",
    "    print s\n",
    "    df=pd.read_csv(s+'.csv')\n",
    "    consumption=['HYTCB','WYTCB','HYCCB','GEEGB','HYEGB','SOEGB','WYEGB','HYICB','HYTXB']\n",
    "    totalconsumption=[]\n",
    "    for y in interval:\n",
    "        data=df[(df.Year==y)&(df.MSN.isin(consumption))]\n",
    "        t.append(sum(data['Data']))\n",
    "    for i in range(len(t)-1):\n",
    "        print t[i+1]/t[i]\n",
    "for s in state:\n",
    "    print s\n",
    "    df=pd.read_csv(s+'.csv')\n",
    "    consumption=['HYTCB','WYTCB','HYCCB','GEEGB','HYEGB'+'SOEGB'+'WYEGB','HYICB','HYTXB']\n",
    "    totalconsumption=[]\n",
    "    for y in interval:\n",
    "        data=df[(df.Year==y)&(df.MSN.isin(consumption))]\n",
    "        print y,sum(data['Data'])"
   ]
  },
  {
   "cell_type": "code",
   "execution_count": null,
   "metadata": {
    "collapsed": true,
    "deletable": true,
    "editable": true
   },
   "outputs": [],
   "source": [
    "#renewable\n",
    "consumption={'commercial':['GECCB','GOCCB'],'industrial':['GEICB','PLICB'],'residential':['GERCB','GORCB'],'end-use':['SOTXB']}\n",
    "totalcon=df[(df.Year==2009)&(df.MSN=='TETCB')].values[-1][-1]\n",
    "production={'commercial':['HYCCB'],'electoric power':['GEEGB','HYEGB','SOEGB','WYEGB'],'residential':['HYICB'],'end-use':['HYTXB']}\n",
    "totalpro=df[(df.Year==2009)&(df.MSN=='TEPRB')].values[-1][-1]\n",
    "print \"consumption\"\n",
    "for k,v in consumption.items():\n",
    "    data=df[(df.MSN.isin(v))&(df.Year==2009)]\n",
    "    print k,sum(data['Data'])\n",
    "print \"production\"\n",
    "for k,v in production.items():\n",
    "    data=df[(df.MSN.isin(v))&(df.Year==2009)]\n",
    "    print k,sum(data['Data'])"
   ]
  },
  {
   "cell_type": "code",
   "execution_count": null,
   "metadata": {
    "collapsed": true,
    "deletable": true,
    "editable": true
   },
   "outputs": [],
   "source": [
    "df=pd.read_csv('raw.csv')"
   ]
  },
  {
   "cell_type": "code",
   "execution_count": null,
   "metadata": {
    "collapsed": true,
    "deletable": true,
    "editable": true
   },
   "outputs": [],
   "source": [
    "# 十年间隔total end-use\n",
    "interval=[1960,1970,1980,1990,2000,2009]\n",
    "state=['AZ','TX','CA','NM']\n",
    "for s in state:\n",
    "    t=[]\n",
    "    df=pd.read_csv(s+'.csv')\n",
    "    for y in interval:\n",
    "        print s,y,sum(df[(df.Year==y)&(df.MSN=='TEPRB')].Data)"
   ]
  },
  {
   "cell_type": "code",
   "execution_count": null,
   "metadata": {
    "collapsed": true,
    "deletable": true,
    "editable": true
   },
   "outputs": [],
   "source": [
    "interval=[1960,1970,1980,1990,2000,2009]\n",
    "state=['AZ','TX','CA','NM']\n",
    "for s in state:\n",
    "    t=[]\n",
    "    df=pd.read_csv(s+'.csv')\n",
    "    for y in interval:\n",
    "        print s,y,sum(df[(df.Year==y)&(df.MSN=='ELIMB')].Data)-sum(df[(df.Year==y)&(df.MSN=='ELEXB')].Data)\n",
    "        "
   ]
  },
  {
   "cell_type": "code",
   "execution_count": null,
   "metadata": {
    "collapsed": true,
    "deletable": true,
    "editable": true
   },
   "outputs": [],
   "source": [
    "temp=set('''CLCCB,NGCCB,PACCB,EMCCB,GECCB,HYCCB,SOCCB,WDCCB,WSCCB,ESCCB,LOCCB,CLCCB,NGCCB,PACCB,GECCB,HYCCB,SOCCB,WDCCB,WSCCB,WYCCB,ESCCB,LOCCB,CLICB,NGICB,PAICB,EMICB,EMLCB,GEICB,HYICB,SOICB,WDICB,WSICB,ESICB,LOICB,CLICB,NGICB,PAICB,EMICB,GEICB,HYICB,SOICB,WDICB,WSICB,ESICB,LOICB,WYICB,CLRCB,NGRCB,PARCB,GERCB,SORCB,WDRCB,ESRCB,LORCB,CLACB,NGACB,PAACB,EMACB,ESACB,LOACB,CLACB,NGACB,PAACB,ESACB,LOACB,TEACB,TECCB,TEICB,TERCB'''.split(','))"
   ]
  },
  {
   "cell_type": "code",
   "execution_count": null,
   "metadata": {
    "collapsed": true,
    "deletable": true,
    "editable": true
   },
   "outputs": [],
   "source": [
    "a=[]\n",
    "for t in temp:\n",
    "    if multiply(df[df.MSN==t].Data.values)==0:\n",
    "        a.append(t)\n",
    "        print t"
   ]
  },
  {
   "cell_type": "code",
   "execution_count": null,
   "metadata": {
    "collapsed": true,
    "deletable": true,
    "editable": true
   },
   "outputs": [],
   "source": [
    "def multiply(x):\n",
    "    ret=1\n",
    "    for i in range(len(x)):\n",
    "        ret*=x[i]\n",
    "    return ret"
   ]
  },
  {
   "cell_type": "code",
   "execution_count": null,
   "metadata": {
    "collapsed": true,
    "deletable": true,
    "editable": true
   },
   "outputs": [],
   "source": [
    "state=['AZ','TX','CA','NM']\n",
    "value=[]\n",
    "ret=set()\n",
    "for s in state:\n",
    "    t=[]\n",
    "    df=pd.read_csv(s+'.csv')\n",
    "    value.append(df.values)\n",
    "for i in range(df.shape[0]):\n",
    "    if ((value[0][i][3]==0)&(value[2][i][3]==0)&(value[1][i][3]==0))|((value[0][i][3]!=0)&(value[2][i][3]!=0)&(value[1][i][3]!=0)):\n",
    "        ret.add(value[0][i][0])"
   ]
  },
  {
   "cell_type": "code",
   "execution_count": null,
   "metadata": {
    "collapsed": true,
    "deletable": true,
    "editable": true
   },
   "outputs": [],
   "source": [
    "df=pd.read_csv('raw.csv')\n",
    "interval=[1960,1970,1980,1990,2000,2009]\n",
    "name=['HYICB','ENPRP']\n",
    "for s in state:\n",
    "    t=[]\n",
    "    df=pd.read_csv(s+'.csv')\n",
    "    for y in interval:\n",
    "        print s,y,sum(df[(df.Year==y)&(df.MSN==name[0])].Data)+3.539*sum(df[(df.Year==y)&(df.MSN==name[1])].Data)\n",
    "        "
   ]
  },
  {
   "cell_type": "code",
   "execution_count": null,
   "metadata": {
    "collapsed": true,
    "deletable": true,
    "editable": true
   },
   "outputs": [],
   "source": [
    "interval=[1960,1970,1980,1990,2000,2009]\n",
    "state=['AZ','TX','CA','NM']\n",
    "for s in state:\n",
    "    df=pd.read_csv(s+'.csv')\n",
    "    for y in interval:\n",
    "        print s,y,sum(df[(df.Year==y)&(df.MSN.isin(['GEICB','HYICB','WDICB']))].Data)"
   ]
  },
  {
   "cell_type": "code",
   "execution_count": null,
   "metadata": {
    "collapsed": false,
    "deletable": true,
    "editable": true
   },
   "outputs": [],
   "source": [
    "df=pd.read_csv('Filtered.csv')\n",
    "len(df.MSN.unique())"
   ]
  },
  {
   "cell_type": "code",
   "execution_count": null,
   "metadata": {
    "collapsed": false,
    "deletable": true,
    "editable": true
   },
   "outputs": [],
   "source": [
    "i=1\n",
    "for s in state:\n",
    "    i+=1\n",
    "    for l in df.MSN.unique()[:11]:\n",
    "        temp=df[(df.StateCode==s)&(df.MSN==l)]\n",
    "        plt.plot(temp.Year,temp.Data,label=l) \n",
    "    plt.legend()\n",
    "    plt.title(s)\n",
    "    plt.show()"
   ]
  },
  {
   "cell_type": "code",
   "execution_count": null,
   "metadata": {
    "collapsed": false,
    "deletable": true,
    "editable": true
   },
   "outputs": [],
   "source": [
    "for s in state:\n",
    "    i+=1\n",
    "    for l in df.MSN.unique()[11:]:\n",
    "        temp=df[(df.StateCode==s)&(df.MSN==l)]\n",
    "        plt.plot(temp.Year,temp.Data,label=l) \n",
    "    plt.legend()\n",
    "    plt.title(s)\n",
    "    plt.show()"
   ]
  },
  {
   "cell_type": "code",
   "execution_count": null,
   "metadata": {
    "collapsed": false,
    "deletable": true,
    "editable": true
   },
   "outputs": [],
   "source": [
    "for m in df.MSN.unique():\n",
    "    print m\n",
    "    for s in state:\n",
    "        a=df[(df.StateCode==s)&(df.MSN==m)&(df.Data!=0.0)].Year.values\n",
    "        if len(a)==0:\n",
    "            print s,0\n",
    "        else:\n",
    "            print s,min(a)\n",
    "    \n",
    "    "
   ]
  },
  {
   "cell_type": "code",
   "execution_count": null,
   "metadata": {
    "collapsed": false,
    "deletable": true,
    "editable": true
   },
   "outputs": [],
   "source": [
    "df[(df.StateCode=='TX')&(df.MSN=='GEICB')]"
   ]
  }
 ],
 "metadata": {
  "kernelspec": {
   "display_name": "Python 2",
   "language": "python",
   "name": "python2"
  },
  "language_info": {
   "codemirror_mode": {
    "name": "ipython",
    "version": 2
   },
   "file_extension": ".py",
   "mimetype": "text/x-python",
   "name": "python",
   "nbconvert_exporter": "python",
   "pygments_lexer": "ipython2",
   "version": "2.7.13"
  }
 },
 "nbformat": 4,
 "nbformat_minor": 2
}
