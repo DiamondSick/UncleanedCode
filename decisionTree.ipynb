{
 "cells": [
  {
   "cell_type": "code",
   "execution_count": 19,
   "metadata": {
    "collapsed": false,
    "deletable": true,
    "editable": true
   },
   "outputs": [],
   "source": [
    "import pandas as pd\n",
    "import nltk\n",
    "from sklearn.feature_extraction.text import TfidfVectorizer\n",
    "from sklearn.feature_extraction.text import CountVectorizer\n",
    "from sklearn.feature_extraction.text import HashingVectorizer  \n",
    "from sklearn import cross_validation\n",
    "from sklearn import tree\n",
    "from sklearn.neighbors import KNeighborsClassifier \n",
    "from sklearn.linear_model import LogisticRegression\n",
    "from sklearn.ensemble import ExtraTreesClassifier\n",
    "#from sklearn.feature_selection import SelectFromModel\n",
    "from sklearn.decomposition import TruncatedSVD"
   ]
  },
  {
   "cell_type": "code",
   "execution_count": 20,
   "metadata": {
    "collapsed": true,
    "deletable": true,
    "editable": true
   },
   "outputs": [],
   "source": [
    "df=pd.read_csv('train_modified.csv')\n",
    "normal=df[df['flag']=='n']\n",
    "webshell=df[df['flag']=='w']\n",
    "n_query=[]\n",
    "w_query=[]\n",
    "for item in normal['clean_action']:\n",
    "\tn_query.append(str(item))\n",
    "for item in webshell['clean_action']:\n",
    "\tw_query.append(str(item))\n",
    "queries=n_query+w_query\n",
    "n_y = [0 for i in range(0,len(n_query))]\n",
    "w_y = [1 for i in range(0,len(w_query))]\n",
    "y = n_y + w_y"
   ]
  },
  {
   "cell_type": "code",
   "execution_count": 21,
   "metadata": {
    "collapsed": true,
    "deletable": true,
    "editable": true
   },
   "outputs": [],
   "source": [
    "def get_ngrams(query):\n",
    "    ngrams = []\n",
    "    text = nltk.word_tokenize(str(query))\n",
    "    for w in text:\n",
    "    \tw=w.lower().lstrip(' ').rstrip(' ').replace(\"u'\",' ')\n",
    "    \tif w[0]==\"'\":\n",
    "    \t\tw=w[1:-1]\n",
    "    \tw=w.lstrip(' ').rstrip(' ')\n",
    "    \tngrams.append(w)\n",
    "    return ngrams"
   ]
  },
  {
   "cell_type": "code",
   "execution_count": 25,
   "metadata": {
    "collapsed": false,
    "deletable": true,
    "editable": true
   },
   "outputs": [],
   "source": [
    "#selection Tfidf\n",
    "vectorizer = TfidfVectorizer(tokenizer=get_ngrams)\n",
    "X = vectorizer.fit_transform(queries)\n",
    "X_train, X_test, y_train, y_test = cross_validation.train_test_split(X, y, test_size=0.2, random_state=8)\n",
    "# print X_train.shape"
   ]
  },
  {
   "cell_type": "code",
   "execution_count": 5,
   "metadata": {
    "collapsed": false,
    "deletable": true,
    "editable": true
   },
   "outputs": [
    {
     "name": "stdout",
     "output_type": "stream",
     "text": [
      "(739, 500)\n",
      "(591, 500)\n"
     ]
    }
   ],
   "source": [
    "#selection Hashing\n",
    "vectorizer = HashingVectorizer(tokenizer=get_ngrams,n_features = 500)  \n",
    "X= vectorizer.fit_transform(queries)  \n",
    "X_train, X_test, y_train, y_test = cross_validation.train_test_split(X, y, test_size=0.2, random_state=4)\n",
    "print X.shape\n",
    "print X_train.shape"
   ]
  },
  {
   "cell_type": "code",
   "execution_count": null,
   "metadata": {
    "collapsed": true,
    "deletable": true,
    "editable": true
   },
   "outputs": [],
   "source": [
    "# selection CountVectorizer\n",
    "vectorizer = CountVectorizer(tokenizer=get_ngrams,n_features=500)\n",
    "X = vectorizer.fit_transform(queries)\n",
    "X_train, X_test, y_train, y_test = cross_validation.train_test_split(X, y, test_size=0.2, random_state=4)\n"
   ]
  },
  {
   "cell_type": "code",
   "execution_count": 26,
   "metadata": {
    "collapsed": false,
    "deletable": true,
    "editable": true
   },
   "outputs": [],
   "source": [
    "#SVD降维\n",
    "svd=TruncatedSVD(n_components=1500)\n",
    "svd.fit(X)\n",
    "X=svd.transform(X)\n",
    "X_train, X_test, y_train, y_test = cross_validation.train_test_split(X, y, test_size=0.2, random_state=4)\n"
   ]
  },
  {
   "cell_type": "code",
   "execution_count": 11,
   "metadata": {
    "collapsed": false,
    "deletable": true,
    "editable": true
   },
   "outputs": [
    {
     "name": "stdout",
     "output_type": "stream",
     "text": [
      "[0.82377423492918478, 0.79336731265136839, 0.80845616839460899, 0.80844875154085682, 0.69711767550651005, 0.69893639953888731, 0.69753041201056809, 0.69034330564681867, 0.6928446560321293, 0.66549269207146644, 0.65943054456666195, 0.64191939434247691, 0.64149881898287708, 0.63164395301041254, 0.63049084249084242, 0.6301805383762662, 0.62443933395199758, 0.61595534779359284, 0.61162456796649989, 0.61348287226382858, 0.61517943436123357, 0.6164354730085766, 0.62255501145518344, 0.61657459001831594, 0.6192849424519723, 0.61397561872248052, 0.61209146176985274, 0.6036542026504701, 0.60238570370755262]\n"
     ]
    }
   ],
   "source": [
    "#Model KNN\n",
    "k_range=range(1,30)\n",
    "cv_scores = []\n",
    "for k in k_range:\n",
    "    clf = KNeighborsClassifier(k) \n",
    "    scores =cross_validation .cross_val_score(clf, X_train, y_train, cv=10, scoring='f1')\n",
    "    cv_scores.append(scores.mean()) \n",
    "print cv_scores\n"
   ]
  },
  {
   "cell_type": "code",
   "execution_count": 31,
   "metadata": {
    "collapsed": false,
    "deletable": true,
    "editable": true
   },
   "outputs": [
    {
     "name": "stdout",
     "output_type": "stream",
     "text": [
      "0.827530146261\n"
     ]
    }
   ],
   "source": [
    "#Model Decision Tree\n",
    "clf=tree.DecisionTreeClassifier(splitter='random',max_features=700,max_depth=12,min_samples_leaf=1)\n",
    "clf.fit(X_train,y_train)\n",
    "\n",
    "# scores =cross_validation .cross_val_score(clf, X_train, y_train, cv=10, scoring='f1')\n",
    "#clf.feature_importances_\n",
    "# print scores.mean()"
   ]
  },
  {
   "cell_type": "code",
   "execution_count": 65,
   "metadata": {
    "collapsed": false,
    "deletable": true,
    "editable": true
   },
   "outputs": [
    {
     "name": "stdout",
     "output_type": "stream",
     "text": [
      "[ 0.51851852  0.89473684  0.78787879  0.82352941  0.57142857  0.88888889\n",
      "  0.70967742  0.70967742  0.77419355  0.70967742]\n"
     ]
    }
   ],
   "source": []
  },
  {
   "cell_type": "code",
   "execution_count": null,
   "metadata": {
    "collapsed": false,
    "deletable": true,
    "editable": true
   },
   "outputs": [],
   "source": [
    "\n"
   ]
  },
  {
   "cell_type": "code",
   "execution_count": null,
   "metadata": {
    "collapsed": true,
    "deletable": true,
    "editable": true
   },
   "outputs": [],
   "source": []
  }
 ],
 "metadata": {
  "kernelspec": {
   "display_name": "Python 3",
   "language": "python",
   "name": "python3"
  },
  "language_info": {
   "codemirror_mode": {
    "name": "ipython",
    "version": 3
   },
   "file_extension": ".py",
   "mimetype": "text/x-python",
   "name": "python",
   "nbconvert_exporter": "python",
   "pygments_lexer": "ipython3",
   "version": "3.6.0"
  }
 },
 "nbformat": 4,
 "nbformat_minor": 2
}
