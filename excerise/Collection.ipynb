{
 "cells": [
  {
   "cell_type": "code",
   "execution_count": 16,
   "metadata": {
    "collapsed": true,
    "deletable": true,
    "editable": true
   },
   "outputs": [],
   "source": [
    "#coding=utf-8\n",
    "from bs4 import BeautifulSoup as bs\n",
    "import PyV8\n",
    "import requests\n",
    "import urllib2\n",
    "import re\n",
    "import time"
   ]
  },
  {
   "cell_type": "code",
   "execution_count": 5,
   "metadata": {
    "collapsed": true,
    "deletable": true,
    "editable": true
   },
   "outputs": [],
   "source": [
    "def GetURL():\n",
    "    i=0\n",
    "    allURL=[]\n",
    "    while(i<=1300):\n",
    "        c=urllib2.urlopen('http://ics.cnvd.org.cn/?max=20&offset='+str(i))\n",
    "        s=bs(c.read(),'html5lib')\n",
    "        b=s.table.find_all('a')\n",
    "        for item in b:\n",
    "            allURL.append(item['href'])\n",
    "        i+=20\n",
    "    return allURL"
   ]
  },
  {
   "cell_type": "code",
   "execution_count": 19,
   "metadata": {
    "collapsed": false,
    "deletable": true,
    "editable": true
   },
   "outputs": [
    {
     "name": "stdout",
     "output_type": "stream",
     "text": [
      "1304\n"
     ]
    }
   ],
   "source": [
    "URLlist=GetURL()\n",
    "print len(URLlist)"
   ]
  },
  {
   "cell_type": "code",
   "execution_count": 10,
   "metadata": {
    "collapsed": true,
    "deletable": true,
    "editable": true
   },
   "outputs": [],
   "source": [
    "url=URLlist[0]\n",
    "html = requests.get(url).content\n",
    "js_string=''.join(re.findall(r'(var .*?)</script>', html)).replace(\"eval(y.replace(/\\\\b\\\\w+\\\\b/g, function(y){return x[f(y,z)-1]}))\",\"return y.replace(/\\\\b\\\\w+\\\\b/g, function(y){return x[f(y,z)-1]})\")\n",
    "js_string=\"(function w(){\"+js_string+\"})\"\n",
    "ctxt = PyV8.JSContext()       \n",
    "ctxt.enter()              \n",
    "func = ctxt.eval(js_string) \n",
    "result=func()\n",
    "result2=''.join(re.findall(r'(var cd.*?)setTimeout',result))+\"return dc;\"\n",
    "result2=\"(function w(){\"+result2+\"})\"\n",
    "#print result2            \n",
    "func = ctxt.eval(result2) \n",
    "cookie=func()\n",
    "header={\n",
    "'Accept':'text/html,application/xhtml+xml,application/xml;q=0.9,image/webp,*/*;q=0.8',\n",
    "'Accept-Encoding':'gzip, deflate, sdch',\n",
    "'Accept-Language':'zh-CN,zh;q=0.8',\n",
    "'Cache-Control':'max-age=0',\n",
    "'Connection':'keep-alive',\n",
    "'Host':'www.cnvd.org.cn',\n",
    "'Referer':'http://www.cnvd.org.cn/flaw/show/CNVD-2017-24361',\n",
    "'User-Agent':'Mozilla/5.0 (Windows NT 6.3; WOW64) AppleWebKit/537.36 (KHTML, like Gecko) Chrome/55.0.2883.87 Safari/537.36',                                                                                  \n",
    "\"Cookie\":\"__jsluid=525caaf3d300ccd8a8f8b978c635efa9; bdshare_firstime=1505899759372; JSESSIONID=C53562EC539962AFA7AC21DCF6A92E10;\"+cookie"
   ]
  },
  {
   "cell_type": "code",
   "execution_count": null,
   "metadata": {
    "collapsed": true,
    "deletable": true,
    "editable": true
   },
   "outputs": [],
   "source": [
    "def parse(response):\n",
    "    rs=bs(response,'html5lib')\n",
    "    print rs.find('div',attrs={\"class\":\"blkContainerSblk\"}).h1.get_text()\n",
    "    for item in rs.findAll('tr'):\n",
    "        print item.findAll('td')[0].text\n",
    "        if item.findAll('td')[0].text==u'危害级别':\n",
    "            print item.findAll(‘td’)[1].get_text\n",
    "        else:\n",
    "            print item.findAll('td')[1].stripped_strings"
   ]
  },
  {
   "cell_type": "code",
   "execution_count": 18,
   "metadata": {
    "collapsed": false,
    "deletable": true,
    "editable": true
   },
   "outputs": [
    {
     "name": "stdout",
     "output_type": "stream",
     "text": [
      "\n",
      "\n",
      "\n",
      "\n"
     ]
    },
    {
     "ename": "KeyboardInterrupt",
     "evalue": "",
     "output_type": "error",
     "traceback": [
      "\u001b[1;31m---------------------------------------------------------------------------\u001b[0m",
      "\u001b[1;31mKeyboardInterrupt\u001b[0m                         Traceback (most recent call last)",
      "\u001b[1;32m<ipython-input-18-3fe00e91f5e6>\u001b[0m in \u001b[0;36m<module>\u001b[1;34m()\u001b[0m\n\u001b[0;32m      1\u001b[0m \u001b[1;32mfor\u001b[0m \u001b[0mitem\u001b[0m \u001b[1;32min\u001b[0m \u001b[0mURLlist\u001b[0m\u001b[1;33m:\u001b[0m\u001b[1;33m\u001b[0m\u001b[0m\n\u001b[0;32m      2\u001b[0m     \u001b[1;32mprint\u001b[0m \u001b[0mrequests\u001b[0m\u001b[1;33m.\u001b[0m\u001b[0mget\u001b[0m\u001b[1;33m(\u001b[0m\u001b[0murl\u001b[0m\u001b[1;33m=\u001b[0m\u001b[0mitem\u001b[0m\u001b[1;33m,\u001b[0m \u001b[0mheaders\u001b[0m\u001b[1;33m=\u001b[0m\u001b[0mheader\u001b[0m\u001b[1;33m)\u001b[0m\u001b[1;33m.\u001b[0m\u001b[0mcontent\u001b[0m\u001b[1;33m\u001b[0m\u001b[0m\n\u001b[1;32m----> 3\u001b[1;33m     \u001b[0mtime\u001b[0m\u001b[1;33m.\u001b[0m\u001b[0msleep\u001b[0m\u001b[1;33m(\u001b[0m\u001b[1;36m3\u001b[0m\u001b[1;33m)\u001b[0m\u001b[1;33m\u001b[0m\u001b[0m\n\u001b[0m\u001b[0;32m      4\u001b[0m     \u001b[1;31m#parse(requests.get(url=item,headers=header)\u001b[0m\u001b[1;33m\u001b[0m\u001b[1;33m\u001b[0m\u001b[0m\n",
      "\u001b[1;31mKeyboardInterrupt\u001b[0m: "
     ]
    }
   ],
   "source": [
    "for item in URLlist:\n",
    "    resp=requests.get(url=item, headers=header)\n",
    "    print resp.status_code\n",
    "    #time.sleep(1)\n",
    "    parse(requests.get(url=item,headers=header)"
   ]
  },
  {
   "cell_type": "code",
   "execution_count": null,
   "metadata": {
    "collapsed": false,
    "deletable": true,
    "editable": true
   },
   "outputs": [],
   "source": []
  },
  {
   "cell_type": "code",
   "execution_count": null,
   "metadata": {
    "collapsed": true,
    "deletable": true,
    "editable": true
   },
   "outputs": [],
   "source": []
  }
 ],
 "metadata": {
  "kernelspec": {
   "display_name": "Python 2",
   "language": "python",
   "name": "python2"
  },
  "language_info": {
   "codemirror_mode": {
    "name": "ipython",
    "version": 2
   },
   "file_extension": ".py",
   "mimetype": "text/x-python",
   "name": "python",
   "nbconvert_exporter": "python",
   "pygments_lexer": "ipython2",
   "version": "2.7.13"
  }
 },
 "nbformat": 4,
 "nbformat_minor": 2
}
