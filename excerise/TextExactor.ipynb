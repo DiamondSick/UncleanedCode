{
 "cells": [
  {
   "cell_type": "markdown",
   "metadata": {
    "deletable": true,
    "editable": true
   },
   "source": [
    "### Goose"
   ]
  },
  {
   "cell_type": "code",
   "execution_count": 8,
   "metadata": {
    "collapsed": false,
    "deletable": true,
    "editable": true
   },
   "outputs": [],
   "source": [
    "import sys\n",
    "from goose import Goose  \n",
    "from goose.text import StopWordsChinese  \n",
    "from textrank4zh import TextRank4Keyword, TextRank4Sentence\n",
    "reload(sys)\n",
    "sys.setdefaultencoding('utf-8')\n",
    "url = 'https://blog.csdn.net/sparkexpert/article/details/78882042' \n",
    "g = Goose({'browser_user_agent': 'Mozilla/4.0 (compatible; MSIE 8.0; Windows NT 6.0) ','stopwords_class': StopWordsChinese})  \n",
    "article = g.extract(url=url)\n",
    "text=article.cleaned_text"
   ]
  },
  {
   "cell_type": "code",
   "execution_count": 9,
   "metadata": {
    "collapsed": false,
    "deletable": true,
    "editable": true
   },
   "outputs": [],
   "source": [
    "tr4w = TextRank4Keyword()\n",
    "tr4w.analyze(text=text, lower=True, window=3)  \n",
    "print(u'关键词：')\n",
    "for item in tr4w.get_keywords(20, word_min_len=1):\n",
    "    print(item.word, item.weight)\n"
   ]
  },
  {
   "cell_type": "code",
   "execution_count": 31,
   "metadata": {
    "collapsed": false,
    "deletable": true,
    "editable": true
   },
   "outputs": [],
   "source": [
    "import re  \n",
    "import urllib  \n",
    "  \n",
    "page = urllib.urlopen('https://blog.csdn.net/myiloveuuu/article/details/76187721')  \n",
    "html  = page.read()  \n",
    "  \n",
    "pattern = re.compile(r'<[^>]+>', re.S)  \n",
    "result = pattern.sub('', html)  \n",
    "#result=html.replace(\"(?is)<.*?>\", \"\")\n",
    "f=open('news.txt','w')\n",
    "f.write(result)\n",
    "f.close()"
   ]
  },
  {
   "cell_type": "code",
   "execution_count": null,
   "metadata": {
    "collapsed": true,
    "deletable": true,
    "editable": true
   },
   "outputs": [],
   "source": []
  }
 ],
 "metadata": {
  "kernelspec": {
   "display_name": "Python 2",
   "language": "python",
   "name": "python2"
  },
  "language_info": {
   "codemirror_mode": {
    "name": "ipython",
    "version": 2
   },
   "file_extension": ".py",
   "mimetype": "text/x-python",
   "name": "python",
   "nbconvert_exporter": "python",
   "pygments_lexer": "ipython2",
   "version": "2.7.13"
  }
 },
 "nbformat": 4,
 "nbformat_minor": 2
}
