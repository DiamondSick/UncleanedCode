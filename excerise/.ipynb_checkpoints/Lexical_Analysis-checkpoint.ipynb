{
 "cells": [
  {
   "cell_type": "code",
   "execution_count": 154,
   "metadata": {
    "collapsed": false,
    "deletable": true,
    "editable": true
   },
   "outputs": [
    {
     "name": "stdout",
     "output_type": "stream",
     "text": [
      "Please input codebegin x:=9;if x>9 then x:=2*x+1/3;end#\n"
     ]
    }
   ],
   "source": [
    "code=raw_input('Please input code')\n",
    "#begin x:=9;if x>9 then x:=2*x+1/3;end#"
   ]
  },
  {
   "cell_type": "code",
   "execution_count": 155,
   "metadata": {
    "collapsed": false,
    "deletable": true,
    "editable": true
   },
   "outputs": [],
   "source": [
    "def analysis(code):\n",
    "    i=0\n",
    "    tmp=code[i]\n",
    "    keywords={'begin':1,'if':2,'then':3,'while':4,'do':5,'end':6}\n",
    "    operator={'*':13,'/':14,'+':15,'-':16,':':17,':=':18,'>':20,'<>':21,'<=':22,'<':23,'>=':24,'=':25,';':26,'(':27,')':28}\n",
    "    result=[]\n",
    "    while(1):\n",
    "        \n",
    "        if tmp==\"#\":\n",
    "            result.append((0,'#'))\n",
    "            break\n",
    "            \n",
    "        elif(tmp.isspace()):\n",
    "            i+=1\n",
    "            tmp=code[i]\n",
    "        \n",
    "        elif(tmp.isalpha()):\n",
    "            token=tmp\n",
    "            i=i+1\n",
    "            tmp=code[i]\n",
    "            while(tmp.isalpha() or tmp.isdigit()):\n",
    "                token+=tmp\n",
    "                i+=1\n",
    "                tmp=code[i] \n",
    "            if token in keywords.keys():\n",
    "                result.append((keywords[token],token))\n",
    "                continue\n",
    "            else:\n",
    "                result.append((10,token))\n",
    "                continue\n",
    "        \n",
    "        elif(tmp.isdigit()): \n",
    "            token=str(tmp)\n",
    "            i=i+1\n",
    "            tmp=code[i]\n",
    "            while(tmp.isdigit()):\n",
    "                token+=str(tmp)\n",
    "            result.append((11,token))\n",
    "            continue\n",
    "        else:\n",
    "            token=tmp\n",
    "            i=i+1\n",
    "            tmp=code[i]\n",
    "            while(not(tmp.isalpha() or tmp.isdigit() or (tmp==\"#\"))):\n",
    "                token+=tmp\n",
    "                i=i+1\n",
    "                tmp=code[i]\n",
    "            result.append((operator[token],token))\n",
    "    return  result"
   ]
  },
  {
   "cell_type": "code",
   "execution_count": 156,
   "metadata": {
    "collapsed": false,
    "deletable": true,
    "editable": true
   },
   "outputs": [
    {
     "data": {
      "text/plain": [
       "[(1, 'begin'),\n",
       " (10, 'x'),\n",
       " (18, ':='),\n",
       " (11, '9'),\n",
       " (26, ';'),\n",
       " (2, 'if'),\n",
       " (10, 'x'),\n",
       " (20, '>'),\n",
       " (11, '9'),\n",
       " (3, 'then'),\n",
       " (10, 'x'),\n",
       " (18, ':='),\n",
       " (11, '2'),\n",
       " (13, '*'),\n",
       " (10, 'x'),\n",
       " (15, '+'),\n",
       " (11, '1'),\n",
       " (14, '/'),\n",
       " (11, '3'),\n",
       " (26, ';'),\n",
       " (6, 'end'),\n",
       " (0, '#')]"
      ]
     },
     "execution_count": 156,
     "metadata": {},
     "output_type": "execute_result"
    }
   ],
   "source": [
    "analysis(code)"
   ]
  },
  {
   "cell_type": "code",
   "execution_count": null,
   "metadata": {
    "collapsed": true
   },
   "outputs": [],
   "source": []
  }
 ],
 "metadata": {
  "kernelspec": {
   "display_name": "Python 2",
   "language": "python",
   "name": "python2"
  },
  "language_info": {
   "codemirror_mode": {
    "name": "ipython",
    "version": 2
   },
   "file_extension": ".py",
   "mimetype": "text/x-python",
   "name": "python",
   "nbconvert_exporter": "python",
   "pygments_lexer": "ipython2",
   "version": "2.7.13"
  }
 },
 "nbformat": 4,
 "nbformat_minor": 2
}
