{
 "cells": [
  {
   "cell_type": "code",
   "execution_count": 1,
   "metadata": {
    "collapsed": true,
    "deletable": true,
    "editable": true
   },
   "outputs": [],
   "source": [
    "import pandas as pd "
   ]
  },
  {
   "cell_type": "code",
   "execution_count": 23,
   "metadata": {
    "collapsed": false,
    "deletable": true,
    "editable": true
   },
   "outputs": [],
   "source": [
    "tblptr=[]\n",
    "offset=[]\n",
    "addwidth=0.0\n",
    "Ttype,Twidth=None,None\n",
    "cnt=1\n",
    "s=['M->#','T->real','D->id:T','T->integar','T->*T1','D->id:T','T->integar','D->id:T','D->D1;D2','D->D1;D2','P->MD']"
   ]
  },
  {
   "cell_type": "code",
   "execution_count": 38,
   "metadata": {
    "collapsed": false,
    "deletable": true,
    "editable": true
   },
   "outputs": [],
   "source": [
    "def execute(sequence,Ttype,Twidth,cnt,tblptr,offset,addwidth):\n",
    "    for item in sequence:\n",
    "        if item=='P->MD':\n",
    "            addwidth=f0(tblptr,offset)\n",
    "            print \"addwidth:\"+str(addwidth)\n",
    "        elif item=='M->#':\n",
    "            tblptr,offset=f1(tblptr,offset)\n",
    "            \n",
    "        elif item=='D->D1;D2':\n",
    "            f2()\n",
    "            \n",
    "        elif item=='D->proc id;N D1;S':\n",
    "            f3()\n",
    "           \n",
    "        elif item=='D->id:T':\n",
    "            tblptr,offset,cnt=f4(Twidth,Ttype,tblptr,offset,cnt)\n",
    "        elif item=='N->#':\n",
    "            f5()\n",
    "            \n",
    "        elif item=='T->integar':\n",
    "            Ttype,Twidth=f6(Ttype,Twidth)\n",
    "            \n",
    "        elif item=='T->real':\n",
    "            Ttype,Twidth=f7(Ttype,Twidth)\n",
    "            \n",
    "        elif item=='T->*T1':\n",
    "            Ttype,Twidth=f8(Ttype,Twidth)\n",
    "        else:\n",
    "            print 'error'\n",
    "    \n"
   ]
  },
  {
   "cell_type": "code",
   "execution_count": 39,
   "metadata": {
    "collapsed": false,
    "deletable": true,
    "editable": true
   },
   "outputs": [],
   "source": [
    "def f0(tblptr,offset):\n",
    "    addwidth=tblptr[0]['offset'].sum()+offset[0]\n",
    "    return addwidth\n",
    "def f1(tblptr,offset):\n",
    "    t=pd.DataFrame(columns=[\"id.name\",\"T.type\",\"offset\"])\n",
    "    tblptr.append(t)\n",
    "    offset.append(0)\n",
    "    return tblptr,offset\n",
    "def f7(Ttype,Twidth):\n",
    "    Ttype=\"real\"\n",
    "    Twidth=8\n",
    "    return Ttype,Twidth\n",
    "def f4(Twidth,Ttype,tblptr,offset,cnt):\n",
    "    df=tblptr[-1]\n",
    "    idname='id'+str(cnt)\n",
    "    cnt+=1\n",
    "    df.loc[df.shape[0]]={'id.name':idname,'T.type':Ttype,'offset':offset[-1]}\n",
    "    offset[-1]=offset[-1]+Twidth\n",
    "    return tblptr,offset,cnt\n",
    "def f6(Ttype,Twidth):\n",
    "    Ttype=\"integar\"\n",
    "    Twidth=4\n",
    "    return Ttype,Twidth\n",
    "def f8(Ttype,Twidth):\n",
    "    Ttype=\"pointer(\"+Ttype+\")\"\n",
    "    Twidth=4\n",
    "    return Ttype,Twidth\n",
    "def f2():\n",
    "    pass\n",
    "# def f0(tblptr,offset):\n",
    "    \n",
    "# #     d=tblptr.pop()\n",
    "# #     del d\n",
    "#     d=offset.pop()\n",
    "#     del d\n",
    "#     return tblptr,offset\n"
   ]
  },
  {
   "cell_type": "code",
   "execution_count": 40,
   "metadata": {
    "collapsed": false,
    "deletable": true,
    "editable": true
   },
   "outputs": [
    {
     "name": "stdout",
     "output_type": "stream",
     "text": [
      "addwidth:36.0\n"
     ]
    },
    {
     "data": {
      "text/html": [
       "<div>\n",
       "<table border=\"1\" class=\"dataframe\">\n",
       "  <thead>\n",
       "    <tr style=\"text-align: right;\">\n",
       "      <th></th>\n",
       "      <th>id.name</th>\n",
       "      <th>T.type</th>\n",
       "      <th>offset</th>\n",
       "    </tr>\n",
       "  </thead>\n",
       "  <tbody>\n",
       "    <tr>\n",
       "      <th>0</th>\n",
       "      <td>id1</td>\n",
       "      <td>real</td>\n",
       "      <td>0.0</td>\n",
       "    </tr>\n",
       "    <tr>\n",
       "      <th>1</th>\n",
       "      <td>id2</td>\n",
       "      <td>pointer(integar)</td>\n",
       "      <td>8.0</td>\n",
       "    </tr>\n",
       "    <tr>\n",
       "      <th>2</th>\n",
       "      <td>id3</td>\n",
       "      <td>integar</td>\n",
       "      <td>12.0</td>\n",
       "    </tr>\n",
       "  </tbody>\n",
       "</table>\n",
       "</div>"
      ],
      "text/plain": [
       "  id.name            T.type  offset\n",
       "0     id1              real     0.0\n",
       "1     id2  pointer(integar)     8.0\n",
       "2     id3           integar    12.0"
      ]
     },
     "execution_count": 40,
     "metadata": {},
     "output_type": "execute_result"
    }
   ],
   "source": [
    "execute(s,Ttype,Twidth,cnt,tblptr,offset,addwidth)\n",
    "tblptr.pop()"
   ]
  },
  {
   "cell_type": "code",
   "execution_count": 36,
   "metadata": {
    "collapsed": false,
    "deletable": true,
    "editable": true
   },
   "outputs": [
    {
     "name": "stdout",
     "output_type": "stream",
     "text": [
      "None\n"
     ]
    }
   ],
   "source": [
    "print "
   ]
  },
  {
   "cell_type": "code",
   "execution_count": 25,
   "metadata": {
    "collapsed": false,
    "deletable": true,
    "editable": true
   },
   "outputs": [
    {
     "data": {
      "text/html": [
       "<div>\n",
       "<table border=\"1\" class=\"dataframe\">\n",
       "  <thead>\n",
       "    <tr style=\"text-align: right;\">\n",
       "      <th></th>\n",
       "      <th>T.type</th>\n",
       "      <th>count</th>\n",
       "      <th>id.name</th>\n",
       "      <th>offset</th>\n",
       "      <th>ptr</th>\n",
       "    </tr>\n",
       "  </thead>\n",
       "  <tbody>\n",
       "    <tr>\n",
       "      <th>0</th>\n",
       "      <td>real</td>\n",
       "      <td>NaN</td>\n",
       "      <td>id1</td>\n",
       "      <td>4.0</td>\n",
       "      <td>NaN</td>\n",
       "    </tr>\n",
       "    <tr>\n",
       "      <th>0</th>\n",
       "      <td>NaN</td>\n",
       "      <td>8.0</td>\n",
       "      <td>NaN</td>\n",
       "      <td>NaN</td>\n",
       "      <td>jdf</td>\n",
       "    </tr>\n",
       "  </tbody>\n",
       "</table>\n",
       "</div>"
      ],
      "text/plain": [
       "  T.type  count id.name  offset  ptr\n",
       "0   real    NaN     id1     4.0  NaN\n",
       "0    NaN    8.0     NaN     NaN  jdf"
      ]
     },
     "execution_count": 25,
     "metadata": {},
     "output_type": "execute_result"
    }
   ],
   "source": [
    "temp=pd.DataFrame(columns=['id.name','T.type','offset'])\n",
    "temp.loc[temp.shape[0]]={'id.name':\"id1\",'T.type':\"real\",'offset':4}\n",
    "t=pd.DataFrame(columns=['ptr','count'])\n",
    "t.loc[t.shape[0]]={'ptr':'jdf','count':8}\n",
    "pd.concat([temp,t],join='outer')"
   ]
  }
 ],
 "metadata": {
  "kernelspec": {
   "display_name": "Python 2",
   "language": "python",
   "name": "python2"
  },
  "language_info": {
   "codemirror_mode": {
    "name": "ipython",
    "version": 2
   },
   "file_extension": ".py",
   "mimetype": "text/x-python",
   "name": "python",
   "nbconvert_exporter": "python",
   "pygments_lexer": "ipython2",
   "version": "2.7.13"
  }
 },
 "nbformat": 4,
 "nbformat_minor": 2
}
