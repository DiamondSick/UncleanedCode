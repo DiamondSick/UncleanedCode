{
 "cells": [
  {
   "cell_type": "code",
   "execution_count": 1,
   "metadata": {
    "collapsed": true,
    "deletable": true,
    "editable": true
   },
   "outputs": [],
   "source": [
    "import pandas as pd"
   ]
  },
  {
   "cell_type": "code",
   "execution_count": 2,
   "metadata": {
    "collapsed": false,
    "deletable": true,
    "editable": true
   },
   "outputs": [
    {
     "name": "stdout",
     "output_type": "stream",
     "text": [
      "(132719, 4) (595645, 13)\n"
     ]
    }
   ],
   "source": [
    "trade=pd.read_csv('F:\\\\contest\\\\JD\\\\Risk_Detection_Qualification\\\\t_trade.csv')\n",
    "login=pd.read_csv('F:\\\\contest\\\\JD\\\\Risk_Detection_Qualification\\\\t_login.csv')\n",
    "print trade.shape,login.shape"
   ]
  },
  {
   "cell_type": "code",
   "execution_count": 6,
   "metadata": {
    "collapsed": false
   },
   "outputs": [
    {
     "name": "stdout",
     "output_type": "stream",
     "text": [
      "trade\n",
      "        rowkey                   time      id  is_risk\n",
      "10         198  2015-01-01 00:25:51.0  139034        0\n",
      "1490     21645  2015-01-04 18:18:36.0  139034        0\n",
      "9184    123460  2015-01-20 23:54:31.0  139034        0\n",
      "26547   361887  2015-03-10 13:49:15.0  139034        0\n",
      "55082   778413  2015-06-06 22:30:24.0  139034        0\n",
      "73564    94685  2015-01-16 14:24:30.0  139034        0\n",
      "75881   123459  2015-01-20 23:54:28.0  139034        0\n",
      "83165   220863  2015-02-13 14:35:41.0  139034        0\n",
      "83169   220910  2015-02-13 14:41:27.0  139034        0\n",
      "93284   361888  2015-03-10 13:49:16.0  139034        0\n",
      "113012  649189  2015-05-13 14:37:50.0  139034        1\n",
      "113013  649191  2015-05-13 14:38:15.0  139034        1\n",
      "116756  704526  2015-05-25 08:43:47.0  139034        0\n",
      "117117  710663  2015-05-26 12:32:54.0  139034        0\n",
      "119810  753347  2015-06-03 00:38:43.0  139034        0\n",
      "121521  779499  2015-06-07 01:26:58.0  139034        0\n",
      "123063  801887  2015-06-10 00:28:13.0  139034        0\n",
      "123892  815177  2015-06-11 22:25:17.0  139034        0\n",
      "login\n",
      "              log_id  timelong  device  log_from       ip  city  result  \\\n",
      "11736   8.378132e+14       7.0  988954        10   615173   489       1   \n",
      "30932   9.442167e+15   34778.0  640314         1   833237   488       1   \n",
      "72407   5.443267e+15    2000.0  835072         2  1153409    58       1   \n",
      "72430   8.345823e+15       4.0  988954        10  1005119    58       1   \n",
      "93547   5.209356e+15    3000.0  564717         2  1015543   488       1   \n",
      "94873   1.951973e+15    8000.0  564717         2   437247   489       1   \n",
      "117372  5.169345e+14    2740.0  623045         1  1250234   488       1   \n",
      "185874  2.940447e+15       5.0  342622        10  1080293    58       1   \n",
      "185875  1.258390e+16    5000.0  564717         2  1080293    58       6   \n",
      "185876  7.593451e+15   10000.0  564717         2  1080293    58       6   \n",
      "188067  2.039720e+16    6000.0  135123         2  1351907   489       1   \n",
      "258500  2.452849e+15   16616.0  818420         1  1161739   488       1   \n",
      "310087  2.286249e+16      10.0  988954        10   615173   489       1   \n",
      "370221  4.604000e+15    2000.0  835072         2  1153409    58      31   \n",
      "370222  2.307226e+16    3000.0  835072         2  1153409    58      31   \n",
      "370223  3.090096e+16    5000.0  835072         2  1153409    58      31   \n",
      "392789  4.672169e+16    8000.0  564717         2   437247   489      31   \n",
      "414530  4.618112e+16    5000.0  863360         2   999656   194       1   \n",
      "414583  6.277334e+15   17807.0  835072         1  1422848   194      -2   \n",
      "432366  8.511349e+15    4000.0  135123         2  1115516    58       1   \n",
      "432368  9.450893e+14       4.0  988954        10  1115516    58       1   \n",
      "483679  3.282221e+16       5.0  988954        10  1015529    58       1   \n",
      "483683  2.859400e+16    7000.0  135123         2  1080293    58       1   \n",
      "483684  3.280069e+16       4.0  342622        10  1080293    58       1   \n",
      "483685  8.130896e+15    7000.0  564717         2  1080293    58       1   \n",
      "486653  4.860528e+15    6586.0  835072         1  1426169   488       1   \n",
      "\n",
      "           timestamp  type      id is_scan is_sec                 time  \n",
      "11736   1.420997e+09     1  139034    True  False  2015-01-12 01:29:44  \n",
      "30932   1.431522e+09     3  139034   False  False  2015-05-13 21:01:08  \n",
      "72407   1.420744e+09     3  139034   False  False  2015-01-09 03:12:40  \n",
      "72430   1.433563e+09     1  139034    True  False  2015-06-06 11:49:36  \n",
      "93547   1.420744e+09     3  139034   False  False  2015-01-09 03:14:26  \n",
      "94873   1.431961e+09     3  139034   False  False  2015-05-18 22:59:55  \n",
      "117372  1.431426e+09     3  139034   False  False  2015-05-12 18:25:02  \n",
      "185874  1.425966e+09     1  139034    True  False  2015-03-10 13:46:02  \n",
      "185875  1.426383e+09     3  139034   False  False  2015-03-15 09:36:11  \n",
      "185876  1.426383e+09     3  139034   False  False  2015-03-15 09:35:59  \n",
      "188067  1.431921e+09     3  139034   False  False  2015-05-18 11:49:44  \n",
      "258500  1.431499e+09     3  139034   False  False  2015-05-13 14:35:12  \n",
      "310087  1.420917e+09     1  139034    True  False  2015-01-11 03:09:24  \n",
      "370221  1.420744e+09     3  139034   False  False  2015-01-09 03:08:56  \n",
      "370222  1.420744e+09     3  139034   False  False  2015-01-09 03:09:32  \n",
      "370223  1.420744e+09     3  139034   False  False  2015-01-09 03:09:58  \n",
      "392789  1.431961e+09     3  139034   False  False  2015-05-18 22:59:45  \n",
      "414530  1.424783e+09     3  139034   False  False  2015-02-24 21:09:45  \n",
      "414583  1.426585e+09     3  139034   False  False  2015-03-17 17:37:57  \n",
      "432366  1.420917e+09     3  139034   False  False  2015-01-11 03:11:14  \n",
      "432368  1.421769e+09     1  139034    True  False  2015-01-20 23:47:55  \n",
      "483679  1.425898e+09     1  139034    True  False  2015-03-09 18:40:05  \n",
      "483683  1.426388e+09     3  139034   False  False  2015-03-15 10:58:21  \n",
      "483684  1.425922e+09     1  139034    True  False  2015-03-10 01:27:00  \n",
      "483685  1.426383e+09     3  139034   False  False  2015-03-15 09:36:21  \n",
      "486653  1.430042e+09     3  139034   False  False  2015-04-26 17:48:32  \n"
     ]
    }
   ],
   "source": [
    "security_id=trade[trade['is_risk']==0].id.unique()\n",
    "danger_id=trade[trade['is_risk']==1].id.unique()\n",
    "both_id=[]\n",
    "for i in security_id:\n",
    "    for j in danger_id:\n",
    "        if i==j:\n",
    "            both_id.append(i)\n",
    "print \"trade\"\n",
    "print trade[trade.id==both_id[0]]\n",
    "print \"login\"\n",
    "print login[login.id==both_id[0]]"
   ]
  },
  {
   "cell_type": "code",
   "execution_count": 6,
   "metadata": {
    "collapsed": false,
    "deletable": true,
    "editable": true
   },
   "outputs": [
    {
     "name": "stdout",
     "output_type": "stream",
     "text": [
      "26044\n"
     ]
    }
   ],
   "source": [
    "record=trade['id'].unique()\n",
    "print len(record)"
   ]
  },
  {
   "cell_type": "code",
   "execution_count": 7,
   "metadata": {
    "collapsed": false,
    "deletable": true,
    "editable": true
   },
   "outputs": [
    {
     "name": "stdout",
     "output_type": "stream",
     "text": [
      "579631\n"
     ]
    }
   ],
   "source": [
    "data=login[login['id'].isin(record)]\n",
    "print len(data)"
   ]
  },
  {
   "cell_type": "code",
   "execution_count": 13,
   "metadata": {
    "collapsed": false,
    "deletable": true,
    "editable": true
   },
   "outputs": [],
   "source": [
    "data.to_csv('F:\\\\contest\\\\JD\\\\Risk_Detection_Qualification\\\\loginIntrade.csv',index=None)"
   ]
  },
  {
   "cell_type": "code",
   "execution_count": 14,
   "metadata": {
    "collapsed": false,
    "deletable": true,
    "editable": true
   },
   "outputs": [],
   "source": [
    "danger=trade[trade.is_risk==1]['id'].unique()\n",
    "dangerdata=data[data['id'].isin(danger)]\n",
    "dangerdata.to_csv('F:\\\\contest\\\\JD\\\\Risk_Detection_Qualification\\\\dangerdata.csv',index=None)"
   ]
  },
  {
   "cell_type": "code",
   "execution_count": 16,
   "metadata": {
    "collapsed": false,
    "deletable": true,
    "editable": true
   },
   "outputs": [
    {
     "name": "stderr",
     "output_type": "stream",
     "text": [
      "c:\\python27\\lib\\site-packages\\ipykernel\\__main__.py:1: SettingWithCopyWarning: \n",
      "A value is trying to be set on a copy of a slice from a DataFrame\n",
      "\n",
      "See the caveats in the documentation: http://pandas.pydata.org/pandas-docs/stable/indexing.html#indexing-view-versus-copy\n",
      "  if __name__ == '__main__':\n",
      "c:\\python27\\lib\\site-packages\\ipykernel\\__main__.py:2: SettingWithCopyWarning: \n",
      "A value is trying to be set on a copy of a slice from a DataFrame\n",
      "\n",
      "See the caveats in the documentation: http://pandas.pydata.org/pandas-docs/stable/indexing.html#indexing-view-versus-copy\n",
      "  from ipykernel import kernelapp as app\n"
     ]
    }
   ],
   "source": [
    "dangerdata.drop('log_id',axis=1,inplace=True)\n",
    "dangerdata.drop('is_sec',axis=1,inplace=True)"
   ]
  }
 ],
 "metadata": {
  "kernelspec": {
   "display_name": "Python 2",
   "language": "python",
   "name": "python2"
  },
  "language_info": {
   "codemirror_mode": {
    "name": "ipython",
    "version": 2
   },
   "file_extension": ".py",
   "mimetype": "text/x-python",
   "name": "python",
   "nbconvert_exporter": "python",
   "pygments_lexer": "ipython2",
   "version": "2.7.13"
  }
 },
 "nbformat": 4,
 "nbformat_minor": 2
}
