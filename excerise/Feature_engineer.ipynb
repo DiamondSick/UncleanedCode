{
 "cells": [
  {
   "cell_type": "code",
   "execution_count": 1,
   "metadata": {
    "collapsed": true,
    "deletable": true,
    "editable": true
   },
   "outputs": [],
   "source": [
    "import pandas as pd"
   ]
  },
  {
   "cell_type": "markdown",
   "metadata": {
    "deletable": true,
    "editable": true
   },
   "source": [
    "## 思路\n",
    "- 特征处理\n",
    " - is_scan哑编码"
   ]
  },
  {
   "cell_type": "code",
   "execution_count": 170,
   "metadata": {
    "collapsed": false,
    "deletable": true,
    "editable": true
   },
   "outputs": [
    {
     "data": {
      "text/html": [
       "<div>\n",
       "<table border=\"1\" class=\"dataframe\">\n",
       "  <thead>\n",
       "    <tr style=\"text-align: right;\">\n",
       "      <th></th>\n",
       "      <th>timelong</th>\n",
       "      <th>device</th>\n",
       "      <th>log_from</th>\n",
       "      <th>ip</th>\n",
       "      <th>city</th>\n",
       "      <th>id</th>\n",
       "      <th>is_scan</th>\n",
       "      <th>device_count</th>\n",
       "      <th>result_0</th>\n",
       "      <th>result_1</th>\n",
       "      <th>...</th>\n",
       "      <th>type_0</th>\n",
       "      <th>type_1</th>\n",
       "      <th>type_2</th>\n",
       "      <th>month</th>\n",
       "      <th>date</th>\n",
       "      <th>hour</th>\n",
       "      <th>minute</th>\n",
       "      <th>city_count</th>\n",
       "      <th>logfrom_count</th>\n",
       "      <th>ip_count</th>\n",
       "    </tr>\n",
       "  </thead>\n",
       "  <tbody>\n",
       "    <tr>\n",
       "      <th>0</th>\n",
       "      <td>5</td>\n",
       "      <td>0.416667</td>\n",
       "      <td>0.666667</td>\n",
       "      <td>0.282051</td>\n",
       "      <td>1.000000</td>\n",
       "      <td>116825</td>\n",
       "      <td>1</td>\n",
       "      <td>5</td>\n",
       "      <td>1</td>\n",
       "      <td>0</td>\n",
       "      <td>...</td>\n",
       "      <td>1</td>\n",
       "      <td>0</td>\n",
       "      <td>0</td>\n",
       "      <td>4</td>\n",
       "      <td>10</td>\n",
       "      <td>12</td>\n",
       "      <td>54</td>\n",
       "      <td>1</td>\n",
       "      <td>2</td>\n",
       "      <td>2</td>\n",
       "    </tr>\n",
       "    <tr>\n",
       "      <th>1</th>\n",
       "      <td>16124</td>\n",
       "      <td>0.115385</td>\n",
       "      <td>0.730769</td>\n",
       "      <td>0.384615</td>\n",
       "      <td>0.961538</td>\n",
       "      <td>109987</td>\n",
       "      <td>0</td>\n",
       "      <td>4</td>\n",
       "      <td>1</td>\n",
       "      <td>0</td>\n",
       "      <td>...</td>\n",
       "      <td>1</td>\n",
       "      <td>0</td>\n",
       "      <td>0</td>\n",
       "      <td>4</td>\n",
       "      <td>12</td>\n",
       "      <td>11</td>\n",
       "      <td>20</td>\n",
       "      <td>2</td>\n",
       "      <td>2</td>\n",
       "      <td>4</td>\n",
       "    </tr>\n",
       "    <tr>\n",
       "      <th>2</th>\n",
       "      <td>5</td>\n",
       "      <td>0.416667</td>\n",
       "      <td>0.666667</td>\n",
       "      <td>0.282051</td>\n",
       "      <td>1.000000</td>\n",
       "      <td>116825</td>\n",
       "      <td>1</td>\n",
       "      <td>5</td>\n",
       "      <td>1</td>\n",
       "      <td>0</td>\n",
       "      <td>...</td>\n",
       "      <td>1</td>\n",
       "      <td>0</td>\n",
       "      <td>0</td>\n",
       "      <td>3</td>\n",
       "      <td>30</td>\n",
       "      <td>16</td>\n",
       "      <td>38</td>\n",
       "      <td>1</td>\n",
       "      <td>2</td>\n",
       "      <td>2</td>\n",
       "    </tr>\n",
       "    <tr>\n",
       "      <th>3</th>\n",
       "      <td>6</td>\n",
       "      <td>0.416667</td>\n",
       "      <td>0.666667</td>\n",
       "      <td>0.282051</td>\n",
       "      <td>1.000000</td>\n",
       "      <td>116825</td>\n",
       "      <td>1</td>\n",
       "      <td>5</td>\n",
       "      <td>1</td>\n",
       "      <td>0</td>\n",
       "      <td>...</td>\n",
       "      <td>1</td>\n",
       "      <td>0</td>\n",
       "      <td>0</td>\n",
       "      <td>4</td>\n",
       "      <td>6</td>\n",
       "      <td>16</td>\n",
       "      <td>22</td>\n",
       "      <td>1</td>\n",
       "      <td>2</td>\n",
       "      <td>2</td>\n",
       "    </tr>\n",
       "    <tr>\n",
       "      <th>4</th>\n",
       "      <td>4</td>\n",
       "      <td>0.416667</td>\n",
       "      <td>0.666667</td>\n",
       "      <td>0.282051</td>\n",
       "      <td>1.000000</td>\n",
       "      <td>116825</td>\n",
       "      <td>1</td>\n",
       "      <td>5</td>\n",
       "      <td>1</td>\n",
       "      <td>0</td>\n",
       "      <td>...</td>\n",
       "      <td>1</td>\n",
       "      <td>0</td>\n",
       "      <td>0</td>\n",
       "      <td>4</td>\n",
       "      <td>5</td>\n",
       "      <td>15</td>\n",
       "      <td>55</td>\n",
       "      <td>1</td>\n",
       "      <td>2</td>\n",
       "      <td>2</td>\n",
       "    </tr>\n",
       "  </tbody>\n",
       "</table>\n",
       "<p>5 rows × 23 columns</p>\n",
       "</div>"
      ],
      "text/plain": [
       "   timelong    device  log_from        ip      city      id  is_scan  \\\n",
       "0         5  0.416667  0.666667  0.282051  1.000000  116825        1   \n",
       "1     16124  0.115385  0.730769  0.384615  0.961538  109987        0   \n",
       "2         5  0.416667  0.666667  0.282051  1.000000  116825        1   \n",
       "3         6  0.416667  0.666667  0.282051  1.000000  116825        1   \n",
       "4         4  0.416667  0.666667  0.282051  1.000000  116825        1   \n",
       "\n",
       "   device_count  result_0  result_1    ...     type_0  type_1  type_2  month  \\\n",
       "0             5         1         0    ...          1       0       0      4   \n",
       "1             4         1         0    ...          1       0       0      4   \n",
       "2             5         1         0    ...          1       0       0      3   \n",
       "3             5         1         0    ...          1       0       0      4   \n",
       "4             5         1         0    ...          1       0       0      4   \n",
       "\n",
       "   date  hour  minute  city_count  logfrom_count  ip_count  \n",
       "0    10    12      54           1              2         2  \n",
       "1    12    11      20           2              2         4  \n",
       "2    30    16      38           1              2         2  \n",
       "3     6    16      22           1              2         2  \n",
       "4     5    15      55           1              2         2  \n",
       "\n",
       "[5 rows x 23 columns]"
      ]
     },
     "execution_count": 170,
     "metadata": {},
     "output_type": "execute_result"
    }
   ],
   "source": [
    "data=pd.read_csv('F:\\\\contest\\\\JD\\\\Risk_Detection_Qualification\\\\processedtrain.csv')\n",
    "data.head()"
   ]
  },
  {
   "cell_type": "code",
   "execution_count": 6,
   "metadata": {
    "collapsed": false,
    "deletable": true,
    "editable": true
   },
   "outputs": [],
   "source": [
    "#timelong\n",
    "# for i in id_list:\n",
    "#     temp=data[data.id==i]\n",
    "#     device_list=temp.device.unique()\n",
    "#     for j in device_list:\n",
    "#         ttemp=temp[temp.device==j]\n",
    "#         tsum=0.0\n",
    "#         for k in range(len(ttemp)):\n",
    "#             tsum+=ttemp.ix[k]['timelong']\n",
    "data.drop('timelong',axis=1,inplace=True)        \n",
    "            "
   ]
  },
  {
   "cell_type": "code",
   "execution_count": 39,
   "metadata": {
    "collapsed": false,
    "deletable": true,
    "editable": true
   },
   "outputs": [
    {
     "name": "stdout",
     "output_type": "stream",
     "text": [
      "25943\n"
     ]
    }
   ],
   "source": [
    "id_list=data.id.unique()\n",
    "print len(id_list)"
   ]
  },
  {
   "cell_type": "code",
   "execution_count": null,
   "metadata": {
    "collapsed": false,
    "deletable": true,
    "editable": true
   },
   "outputs": [],
   "source": [
    "#is_scan dummy\n",
    "data['is_scan']=data['is_scan'].apply(lambda x:1 if x==True else 0)\n",
    "data.to_csv('F:\\\\contest\\\\JD\\\\Risk_Detection_Qualification\\\\loginIntrade.csv',index=None)\n",
    "data.head()"
   ]
  },
  {
   "cell_type": "code",
   "execution_count": 114,
   "metadata": {
    "collapsed": false,
    "deletable": true,
    "editable": true
   },
   "outputs": [],
   "source": [
    "#device frequency\n",
    "alldict=dict.fromkeys(tuple(id_list),{})\n",
    "for i in id_list:\n",
    "    temp=data[data.id==i]\n",
    "    dsum=len(temp)\n",
    "    ddict=dict(temp['device'].value_counts())\n",
    "    for item in ddict.keys():\n",
    "        ddict[item]=ddict[item]/float(dsum)\n",
    "    alldict[i]=ddict        "
   ]
  },
  {
   "cell_type": "code",
   "execution_count": 118,
   "metadata": {
    "collapsed": true
   },
   "outputs": [],
   "source": [
    "data.drop('temp',axis=1,inplace=True)"
   ]
  },
  {
   "cell_type": "code",
   "execution_count": 128,
   "metadata": {
    "collapsed": true,
    "deletable": true,
    "editable": true
   },
   "outputs": [],
   "source": [
    "#log_from frequency\n",
    "alldict=dict.fromkeys(tuple(id_list),{})\n",
    "for i in id_list:\n",
    "    temp=data[data.id==i]\n",
    "    dsum=len(temp)\n",
    "    ddict=dict(temp['log_from'].value_counts())\n",
    "    for item in ddict.keys():\n",
    "        ddict[item]=ddict[item]/float(dsum)\n",
    "    alldict[i]=ddict"
   ]
  },
  {
   "cell_type": "code",
   "execution_count": 131,
   "metadata": {
    "collapsed": false
   },
   "outputs": [],
   "source": [
    "allcitydict=dict.fromkeys(tuple(id_list),{})\n",
    "for i in id_list:\n",
    "    temp=data[data.id==i]\n",
    "    dsum=len(temp)\n",
    "    ddict=dict(temp['city'].value_counts())\n",
    "    for item in ddict.keys():\n",
    "        ddict[item]=ddict[item]/float(dsum)\n",
    "    allcitydict[i]=ddict"
   ]
  },
  {
   "cell_type": "code",
   "execution_count": 58,
   "metadata": {
    "collapsed": false
   },
   "outputs": [
    {
     "name": "stdout",
     "output_type": "stream",
     "text": [
      "{194: 1.0}\n"
     ]
    }
   ],
   "source": [
    "print allcitydict[116825]"
   ]
  },
  {
   "cell_type": "code",
   "execution_count": 76,
   "metadata": {
    "collapsed": false
   },
   "outputs": [],
   "source": [
    "for i in range(500,len(data)):\n",
    "    temp=data.ix[i]\n",
    "    data.ix[i,'log_from']=alldict[temp.id][temp.log_from]\n",
    "    data.ix[i,'city']=allcitydict[temp.id][temp.city]\n",
    "data.to_csv('F:\\\\contest\\\\JD\\\\Risk_Detection_Qualification\\\\processedtrain.csv',index=None)       "
   ]
  },
  {
   "cell_type": "code",
   "execution_count": 112,
   "metadata": {
    "collapsed": false,
    "deletable": true,
    "editable": true
   },
   "outputs": [],
   "source": [
    "#time\n",
    "data['month']=data['time'].apply(lambda x: x.split(\" \")[0].split(\"/\")[1])\n",
    "data['date']=data['time'].apply(lambda x:x.split(\" \")[0].split(\"/\")[2])\n",
    "data['hour']=data['time'].apply(lambda x:x.split(\" \")[1].split(\":\")[0])\n",
    "data['minute']=data['time'].apply(lambda x:x.split(\" \")[1].split(\":\")[1])\n",
    "data.drop('time',axis=1,inplace=True)\n",
    "#data.to_csv(\"F:\\\\contest\\\\JD\\\\Risk_Detection_Qualification\\\\processedtrain.csv\",index=None)\n"
   ]
  },
  {
   "cell_type": "code",
   "execution_count": 72,
   "metadata": {
    "collapsed": false
   },
   "outputs": [
    {
     "data": {
      "text/html": [
       "<div>\n",
       "<table border=\"1\" class=\"dataframe\">\n",
       "  <thead>\n",
       "    <tr style=\"text-align: right;\">\n",
       "      <th></th>\n",
       "      <th>timelong</th>\n",
       "      <th>device</th>\n",
       "      <th>log_from</th>\n",
       "      <th>ip</th>\n",
       "      <th>city</th>\n",
       "      <th>result</th>\n",
       "      <th>type</th>\n",
       "      <th>id</th>\n",
       "      <th>is_scan</th>\n",
       "      <th>month</th>\n",
       "      <th>date</th>\n",
       "      <th>hour</th>\n",
       "      <th>minute</th>\n",
       "    </tr>\n",
       "  </thead>\n",
       "  <tbody>\n",
       "    <tr>\n",
       "      <th>0</th>\n",
       "      <td>5</td>\n",
       "      <td>0.416667</td>\n",
       "      <td>0.666667</td>\n",
       "      <td>1026491</td>\n",
       "      <td>1.000000</td>\n",
       "      <td>1</td>\n",
       "      <td>1</td>\n",
       "      <td>116825</td>\n",
       "      <td>1</td>\n",
       "      <td>4</td>\n",
       "      <td>10</td>\n",
       "      <td>12</td>\n",
       "      <td>54</td>\n",
       "    </tr>\n",
       "    <tr>\n",
       "      <th>1</th>\n",
       "      <td>16124</td>\n",
       "      <td>0.115385</td>\n",
       "      <td>0.730769</td>\n",
       "      <td>1026491</td>\n",
       "      <td>0.961538</td>\n",
       "      <td>1</td>\n",
       "      <td>1</td>\n",
       "      <td>109987</td>\n",
       "      <td>0</td>\n",
       "      <td>4</td>\n",
       "      <td>12</td>\n",
       "      <td>11</td>\n",
       "      <td>20</td>\n",
       "    </tr>\n",
       "    <tr>\n",
       "      <th>2</th>\n",
       "      <td>5</td>\n",
       "      <td>0.416667</td>\n",
       "      <td>0.666667</td>\n",
       "      <td>1026491</td>\n",
       "      <td>1.000000</td>\n",
       "      <td>1</td>\n",
       "      <td>1</td>\n",
       "      <td>116825</td>\n",
       "      <td>1</td>\n",
       "      <td>3</td>\n",
       "      <td>30</td>\n",
       "      <td>16</td>\n",
       "      <td>38</td>\n",
       "    </tr>\n",
       "    <tr>\n",
       "      <th>3</th>\n",
       "      <td>6</td>\n",
       "      <td>0.416667</td>\n",
       "      <td>0.666667</td>\n",
       "      <td>1026491</td>\n",
       "      <td>1.000000</td>\n",
       "      <td>1</td>\n",
       "      <td>1</td>\n",
       "      <td>116825</td>\n",
       "      <td>1</td>\n",
       "      <td>4</td>\n",
       "      <td>6</td>\n",
       "      <td>16</td>\n",
       "      <td>22</td>\n",
       "    </tr>\n",
       "    <tr>\n",
       "      <th>4</th>\n",
       "      <td>4</td>\n",
       "      <td>0.416667</td>\n",
       "      <td>0.666667</td>\n",
       "      <td>1026491</td>\n",
       "      <td>1.000000</td>\n",
       "      <td>1</td>\n",
       "      <td>1</td>\n",
       "      <td>116825</td>\n",
       "      <td>1</td>\n",
       "      <td>4</td>\n",
       "      <td>5</td>\n",
       "      <td>15</td>\n",
       "      <td>55</td>\n",
       "    </tr>\n",
       "  </tbody>\n",
       "</table>\n",
       "</div>"
      ],
      "text/plain": [
       "   timelong    device  log_from       ip      city  result  type      id  \\\n",
       "0         5  0.416667  0.666667  1026491  1.000000       1     1  116825   \n",
       "1     16124  0.115385  0.730769  1026491  0.961538       1     1  109987   \n",
       "2         5  0.416667  0.666667  1026491  1.000000       1     1  116825   \n",
       "3         6  0.416667  0.666667  1026491  1.000000       1     1  116825   \n",
       "4         4  0.416667  0.666667  1026491  1.000000       1     1  116825   \n",
       "\n",
       "   is_scan month date hour minute  \n",
       "0        1     4   10   12     54  \n",
       "1        0     4   12   11     20  \n",
       "2        1     3   30   16     38  \n",
       "3        1     4    6   16     22  \n",
       "4        1     4    5   15     55  "
      ]
     },
     "execution_count": 72,
     "metadata": {},
     "output_type": "execute_result"
    }
   ],
   "source": [
    "data.head()"
   ]
  },
  {
   "cell_type": "code",
   "execution_count": null,
   "metadata": {
    "collapsed": true
   },
   "outputs": [],
   "source": [
    "ip_count=dict(data.ip.value_counts())\n",
    "for i in range(len(data)):\n",
    "    data.ix[i,'ip']/=float(ip_count[data.ix[i,'ip']])"
   ]
  },
  {
   "cell_type": "code",
   "execution_count": 7,
   "metadata": {
    "collapsed": true,
    "deletable": true,
    "editable": true
   },
   "outputs": [],
   "source": [
    "#city frequency\n",
    "column={'timelong':[],'device':[],'log_from':[],'ip':[],'city':[],'result':[],'type':[],'id':[],'is_scan':[],'time':[]}\n",
    "newdata=pd.DataFrame(data=column)\n",
    "for i in id_list:\n",
    "    temp=data[data.id==i]\n",
    "    dsum=len(temp)\n",
    "    ddict=temp['city'].value_counts()\n",
    "    for item in ddict.keys():\n",
    "        ddict[item]/=float(dsum)\n",
    "    temp['city']=temp['city'].apply(lambda x: ddict[x])\n",
    "    newdata=pd.concat([newdata,temp],ignore_index=True)\n",
    "print newdata.shape"
   ]
  },
  {
   "cell_type": "code",
   "execution_count": 107,
   "metadata": {
    "collapsed": false
   },
   "outputs": [],
   "source": [
    "data['result']=data['result'].apply(lambda x: 'r1' if x==1 else x)\n",
    "data['result']=data['result'].apply(lambda x: 'r2' if x==31 else x)\n",
    "data['result']=data['result'].apply(lambda x: 'r3' if x==-2 else x)\n",
    "data['result']=data['result'].apply(lambda x: 'r4' if x in [23,3,5,22,-4,6] else x)\n",
    "data['result']=data['result'].apply(lambda x: 'r5' if x==-1 else x)"
   ]
  },
  {
   "cell_type": "code",
   "execution_count": 109,
   "metadata": {
    "collapsed": true
   },
   "outputs": [],
   "source": [
    "data['type']=data['type'].apply(lambda x:'t'+str(x))"
   ]
  },
  {
   "cell_type": "code",
   "execution_count": 108,
   "metadata": {
    "collapsed": false
   },
   "outputs": [
    {
     "data": {
      "text/plain": [
       "r1    448469\n",
       "r2     96149\n",
       "r3     11938\n",
       "r4     11539\n",
       "r5     11536\n",
       "Name: result, dtype: int64"
      ]
     },
     "execution_count": 108,
     "metadata": {},
     "output_type": "execute_result"
    }
   ],
   "source": [
    "data.result.value_counts()"
   ]
  },
  {
   "cell_type": "code",
   "execution_count": 87,
   "metadata": {
    "collapsed": false
   },
   "outputs": [],
   "source": [
    "from sklearn.preprocessing import LabelEncoder"
   ]
  },
  {
   "cell_type": "code",
   "execution_count": 110,
   "metadata": {
    "collapsed": false
   },
   "outputs": [
    {
     "data": {
      "text/plain": [
       "Index([u'timelong', u'device', u'log_from', u'ip', u'city', u'id', u'is_scan',\n",
       "       u'time', u'device_count', u'result_0', u'result_1', u'result_2',\n",
       "       u'result_3', u'result_4', u'type_0', u'type_1', u'type_2'],\n",
       "      dtype='object')"
      ]
     },
     "execution_count": 110,
     "metadata": {},
     "output_type": "execute_result"
    }
   ],
   "source": [
    "le = LabelEncoder()\n",
    "var_to_encode = ['result','type']\n",
    "for col in var_to_encode:\n",
    "    data[col] = le.fit_transform(data[col])\n",
    "data = pd.get_dummies(data, columns=var_to_encode)\n",
    "data.columns"
   ]
  },
  {
   "cell_type": "code",
   "execution_count": 98,
   "metadata": {
    "collapsed": false
   },
   "outputs": [],
   "source": [
    "data.to_csv(\"F:\\\\contest\\\\JD\\\\Risk_Detection_Qualification\\\\processedtrain.csv\",index=None)"
   ]
  },
  {
   "cell_type": "code",
   "execution_count": 100,
   "metadata": {
    "collapsed": false
   },
   "outputs": [],
   "source": [
    "data=pd.read_csv('F:\\contest\\JD\\Risk_Detection_Qualification\\loginIntrade.csv')\n",
    "device_count={}\n",
    "for i in id_list:\n",
    "    device_count[i]=len(data[data.id==i].device.unique())"
   ]
  },
  {
   "cell_type": "code",
   "execution_count": 101,
   "metadata": {
    "collapsed": true
   },
   "outputs": [],
   "source": [
    "data['device_count']=data['id'].apply(lambda x:device_count[x])"
   ]
  },
  {
   "cell_type": "code",
   "execution_count": 137,
   "metadata": {
    "collapsed": true
   },
   "outputs": [],
   "source": [
    "ip_count={}\n",
    "for i in id_list:\n",
    "    ip_count[i]=len(data[data.id==i].ip.unique())\n",
    "data['ip_count']=data['id'].apply(lambda x:ip_count[x])\n"
   ]
  },
  {
   "cell_type": "code",
   "execution_count": 183,
   "metadata": {
    "collapsed": true
   },
   "outputs": [],
   "source": [
    "data.to_csv(\"F:\\\\contest\\\\JD\\\\Risk_Detection_Qualification\\\\processedtrain.csv\",index=None)"
   ]
  },
  {
   "cell_type": "code",
   "execution_count": 138,
   "metadata": {
    "collapsed": false
   },
   "outputs": [
    {
     "data": {
      "text/html": [
       "<div>\n",
       "<table border=\"1\" class=\"dataframe\">\n",
       "  <thead>\n",
       "    <tr style=\"text-align: right;\">\n",
       "      <th></th>\n",
       "      <th>timelong</th>\n",
       "      <th>device</th>\n",
       "      <th>log_from</th>\n",
       "      <th>ip</th>\n",
       "      <th>city</th>\n",
       "      <th>id</th>\n",
       "      <th>is_scan</th>\n",
       "      <th>device_count</th>\n",
       "      <th>result_0</th>\n",
       "      <th>result_1</th>\n",
       "      <th>...</th>\n",
       "      <th>type_0</th>\n",
       "      <th>type_1</th>\n",
       "      <th>type_2</th>\n",
       "      <th>month</th>\n",
       "      <th>date</th>\n",
       "      <th>hour</th>\n",
       "      <th>minute</th>\n",
       "      <th>city_count</th>\n",
       "      <th>logfrom_count</th>\n",
       "      <th>ip_count</th>\n",
       "    </tr>\n",
       "  </thead>\n",
       "  <tbody>\n",
       "    <tr>\n",
       "      <th>0</th>\n",
       "      <td>5</td>\n",
       "      <td>0.416667</td>\n",
       "      <td>0.666667</td>\n",
       "      <td>1026491</td>\n",
       "      <td>1.000000</td>\n",
       "      <td>116825</td>\n",
       "      <td>1</td>\n",
       "      <td>5</td>\n",
       "      <td>1</td>\n",
       "      <td>0</td>\n",
       "      <td>...</td>\n",
       "      <td>1</td>\n",
       "      <td>0</td>\n",
       "      <td>0</td>\n",
       "      <td>4</td>\n",
       "      <td>10</td>\n",
       "      <td>12</td>\n",
       "      <td>54</td>\n",
       "      <td>1</td>\n",
       "      <td>2</td>\n",
       "      <td>2</td>\n",
       "    </tr>\n",
       "    <tr>\n",
       "      <th>1</th>\n",
       "      <td>16124</td>\n",
       "      <td>0.115385</td>\n",
       "      <td>0.730769</td>\n",
       "      <td>1026491</td>\n",
       "      <td>0.961538</td>\n",
       "      <td>109987</td>\n",
       "      <td>0</td>\n",
       "      <td>4</td>\n",
       "      <td>1</td>\n",
       "      <td>0</td>\n",
       "      <td>...</td>\n",
       "      <td>1</td>\n",
       "      <td>0</td>\n",
       "      <td>0</td>\n",
       "      <td>4</td>\n",
       "      <td>12</td>\n",
       "      <td>11</td>\n",
       "      <td>20</td>\n",
       "      <td>2</td>\n",
       "      <td>2</td>\n",
       "      <td>4</td>\n",
       "    </tr>\n",
       "    <tr>\n",
       "      <th>2</th>\n",
       "      <td>5</td>\n",
       "      <td>0.416667</td>\n",
       "      <td>0.666667</td>\n",
       "      <td>1026491</td>\n",
       "      <td>1.000000</td>\n",
       "      <td>116825</td>\n",
       "      <td>1</td>\n",
       "      <td>5</td>\n",
       "      <td>1</td>\n",
       "      <td>0</td>\n",
       "      <td>...</td>\n",
       "      <td>1</td>\n",
       "      <td>0</td>\n",
       "      <td>0</td>\n",
       "      <td>3</td>\n",
       "      <td>30</td>\n",
       "      <td>16</td>\n",
       "      <td>38</td>\n",
       "      <td>1</td>\n",
       "      <td>2</td>\n",
       "      <td>2</td>\n",
       "    </tr>\n",
       "    <tr>\n",
       "      <th>3</th>\n",
       "      <td>6</td>\n",
       "      <td>0.416667</td>\n",
       "      <td>0.666667</td>\n",
       "      <td>1026491</td>\n",
       "      <td>1.000000</td>\n",
       "      <td>116825</td>\n",
       "      <td>1</td>\n",
       "      <td>5</td>\n",
       "      <td>1</td>\n",
       "      <td>0</td>\n",
       "      <td>...</td>\n",
       "      <td>1</td>\n",
       "      <td>0</td>\n",
       "      <td>0</td>\n",
       "      <td>4</td>\n",
       "      <td>6</td>\n",
       "      <td>16</td>\n",
       "      <td>22</td>\n",
       "      <td>1</td>\n",
       "      <td>2</td>\n",
       "      <td>2</td>\n",
       "    </tr>\n",
       "    <tr>\n",
       "      <th>4</th>\n",
       "      <td>4</td>\n",
       "      <td>0.416667</td>\n",
       "      <td>0.666667</td>\n",
       "      <td>1026491</td>\n",
       "      <td>1.000000</td>\n",
       "      <td>116825</td>\n",
       "      <td>1</td>\n",
       "      <td>5</td>\n",
       "      <td>1</td>\n",
       "      <td>0</td>\n",
       "      <td>...</td>\n",
       "      <td>1</td>\n",
       "      <td>0</td>\n",
       "      <td>0</td>\n",
       "      <td>4</td>\n",
       "      <td>5</td>\n",
       "      <td>15</td>\n",
       "      <td>55</td>\n",
       "      <td>1</td>\n",
       "      <td>2</td>\n",
       "      <td>2</td>\n",
       "    </tr>\n",
       "  </tbody>\n",
       "</table>\n",
       "<p>5 rows × 23 columns</p>\n",
       "</div>"
      ],
      "text/plain": [
       "   timelong    device  log_from       ip      city      id  is_scan  \\\n",
       "0         5  0.416667  0.666667  1026491  1.000000  116825        1   \n",
       "1     16124  0.115385  0.730769  1026491  0.961538  109987        0   \n",
       "2         5  0.416667  0.666667  1026491  1.000000  116825        1   \n",
       "3         6  0.416667  0.666667  1026491  1.000000  116825        1   \n",
       "4         4  0.416667  0.666667  1026491  1.000000  116825        1   \n",
       "\n",
       "   device_count  result_0  result_1   ...     type_0  type_1  type_2  month  \\\n",
       "0             5         1         0   ...          1       0       0      4   \n",
       "1             4         1         0   ...          1       0       0      4   \n",
       "2             5         1         0   ...          1       0       0      3   \n",
       "3             5         1         0   ...          1       0       0      4   \n",
       "4             5         1         0   ...          1       0       0      4   \n",
       "\n",
       "   date  hour minute city_count logfrom_count ip_count  \n",
       "0    10    12     54          1             2        2  \n",
       "1    12    11     20          2             2        4  \n",
       "2    30    16     38          1             2        2  \n",
       "3     6    16     22          1             2        2  \n",
       "4     5    15     55          1             2        2  \n",
       "\n",
       "[5 rows x 23 columns]"
      ]
     },
     "execution_count": 138,
     "metadata": {},
     "output_type": "execute_result"
    }
   ],
   "source": [
    "data.head()"
   ]
  },
  {
   "cell_type": "code",
   "execution_count": 158,
   "metadata": {
    "collapsed": false
   },
   "outputs": [],
   "source": [
    "data['ip']=data.apply(lambda x:alldict[x['id']][x['ip']],axis=1)"
   ]
  },
  {
   "cell_type": "code",
   "execution_count": 159,
   "metadata": {
    "collapsed": false
   },
   "outputs": [
    {
     "data": {
      "text/html": [
       "<div>\n",
       "<table border=\"1\" class=\"dataframe\">\n",
       "  <thead>\n",
       "    <tr style=\"text-align: right;\">\n",
       "      <th></th>\n",
       "      <th>timelong</th>\n",
       "      <th>device</th>\n",
       "      <th>log_from</th>\n",
       "      <th>ip</th>\n",
       "      <th>city</th>\n",
       "      <th>id</th>\n",
       "      <th>is_scan</th>\n",
       "      <th>device_count</th>\n",
       "      <th>result_0</th>\n",
       "      <th>result_1</th>\n",
       "      <th>...</th>\n",
       "      <th>type_0</th>\n",
       "      <th>type_1</th>\n",
       "      <th>type_2</th>\n",
       "      <th>month</th>\n",
       "      <th>date</th>\n",
       "      <th>hour</th>\n",
       "      <th>minute</th>\n",
       "      <th>city_count</th>\n",
       "      <th>logfrom_count</th>\n",
       "      <th>ip_count</th>\n",
       "    </tr>\n",
       "  </thead>\n",
       "  <tbody>\n",
       "    <tr>\n",
       "      <th>0</th>\n",
       "      <td>5</td>\n",
       "      <td>0.416667</td>\n",
       "      <td>0.666667</td>\n",
       "      <td>0.282051</td>\n",
       "      <td>1.000000</td>\n",
       "      <td>116825</td>\n",
       "      <td>1</td>\n",
       "      <td>5</td>\n",
       "      <td>1</td>\n",
       "      <td>0</td>\n",
       "      <td>...</td>\n",
       "      <td>1</td>\n",
       "      <td>0</td>\n",
       "      <td>0</td>\n",
       "      <td>4</td>\n",
       "      <td>10</td>\n",
       "      <td>12</td>\n",
       "      <td>54</td>\n",
       "      <td>1</td>\n",
       "      <td>2</td>\n",
       "      <td>2</td>\n",
       "    </tr>\n",
       "    <tr>\n",
       "      <th>1</th>\n",
       "      <td>16124</td>\n",
       "      <td>0.115385</td>\n",
       "      <td>0.730769</td>\n",
       "      <td>0.384615</td>\n",
       "      <td>0.961538</td>\n",
       "      <td>109987</td>\n",
       "      <td>0</td>\n",
       "      <td>4</td>\n",
       "      <td>1</td>\n",
       "      <td>0</td>\n",
       "      <td>...</td>\n",
       "      <td>1</td>\n",
       "      <td>0</td>\n",
       "      <td>0</td>\n",
       "      <td>4</td>\n",
       "      <td>12</td>\n",
       "      <td>11</td>\n",
       "      <td>20</td>\n",
       "      <td>2</td>\n",
       "      <td>2</td>\n",
       "      <td>4</td>\n",
       "    </tr>\n",
       "    <tr>\n",
       "      <th>2</th>\n",
       "      <td>5</td>\n",
       "      <td>0.416667</td>\n",
       "      <td>0.666667</td>\n",
       "      <td>0.282051</td>\n",
       "      <td>1.000000</td>\n",
       "      <td>116825</td>\n",
       "      <td>1</td>\n",
       "      <td>5</td>\n",
       "      <td>1</td>\n",
       "      <td>0</td>\n",
       "      <td>...</td>\n",
       "      <td>1</td>\n",
       "      <td>0</td>\n",
       "      <td>0</td>\n",
       "      <td>3</td>\n",
       "      <td>30</td>\n",
       "      <td>16</td>\n",
       "      <td>38</td>\n",
       "      <td>1</td>\n",
       "      <td>2</td>\n",
       "      <td>2</td>\n",
       "    </tr>\n",
       "    <tr>\n",
       "      <th>3</th>\n",
       "      <td>6</td>\n",
       "      <td>0.416667</td>\n",
       "      <td>0.666667</td>\n",
       "      <td>0.282051</td>\n",
       "      <td>1.000000</td>\n",
       "      <td>116825</td>\n",
       "      <td>1</td>\n",
       "      <td>5</td>\n",
       "      <td>1</td>\n",
       "      <td>0</td>\n",
       "      <td>...</td>\n",
       "      <td>1</td>\n",
       "      <td>0</td>\n",
       "      <td>0</td>\n",
       "      <td>4</td>\n",
       "      <td>6</td>\n",
       "      <td>16</td>\n",
       "      <td>22</td>\n",
       "      <td>1</td>\n",
       "      <td>2</td>\n",
       "      <td>2</td>\n",
       "    </tr>\n",
       "    <tr>\n",
       "      <th>4</th>\n",
       "      <td>4</td>\n",
       "      <td>0.416667</td>\n",
       "      <td>0.666667</td>\n",
       "      <td>0.282051</td>\n",
       "      <td>1.000000</td>\n",
       "      <td>116825</td>\n",
       "      <td>1</td>\n",
       "      <td>5</td>\n",
       "      <td>1</td>\n",
       "      <td>0</td>\n",
       "      <td>...</td>\n",
       "      <td>1</td>\n",
       "      <td>0</td>\n",
       "      <td>0</td>\n",
       "      <td>4</td>\n",
       "      <td>5</td>\n",
       "      <td>15</td>\n",
       "      <td>55</td>\n",
       "      <td>1</td>\n",
       "      <td>2</td>\n",
       "      <td>2</td>\n",
       "    </tr>\n",
       "  </tbody>\n",
       "</table>\n",
       "<p>5 rows × 23 columns</p>\n",
       "</div>"
      ],
      "text/plain": [
       "   timelong    device  log_from        ip      city      id  is_scan  \\\n",
       "0         5  0.416667  0.666667  0.282051  1.000000  116825        1   \n",
       "1     16124  0.115385  0.730769  0.384615  0.961538  109987        0   \n",
       "2         5  0.416667  0.666667  0.282051  1.000000  116825        1   \n",
       "3         6  0.416667  0.666667  0.282051  1.000000  116825        1   \n",
       "4         4  0.416667  0.666667  0.282051  1.000000  116825        1   \n",
       "\n",
       "   device_count  result_0  result_1   ...     type_0  type_1  type_2  month  \\\n",
       "0             5         1         0   ...          1       0       0      4   \n",
       "1             4         1         0   ...          1       0       0      4   \n",
       "2             5         1         0   ...          1       0       0      3   \n",
       "3             5         1         0   ...          1       0       0      4   \n",
       "4             5         1         0   ...          1       0       0      4   \n",
       "\n",
       "   date  hour minute city_count logfrom_count ip_count  \n",
       "0    10    12     54          1             2        2  \n",
       "1    12    11     20          2             2        4  \n",
       "2    30    16     38          1             2        2  \n",
       "3     6    16     22          1             2        2  \n",
       "4     5    15     55          1             2        2  \n",
       "\n",
       "[5 rows x 23 columns]"
      ]
     },
     "execution_count": 159,
     "metadata": {},
     "output_type": "execute_result"
    }
   ],
   "source": [
    "data.head()"
   ]
  },
  {
   "cell_type": "code",
   "execution_count": 141,
   "metadata": {
    "collapsed": false
   },
   "outputs": [],
   "source": [
    "ip_count=dict(data.ip.value_counts())"
   ]
  },
  {
   "cell_type": "code",
   "execution_count": null,
   "metadata": {
    "collapsed": false
   },
   "outputs": [],
   "source": [
    "alldict=dict.fromkeys(id_list,{})\n",
    "for i in id_list:\n",
    "    temp=dict(data[data.id==i].ip.value_counts())\n",
    "    for k,v in temp.items():\n",
    "        temp[k]/=float(ip_count[k])\n",
    "    alldict[i]=temp\n",
    "    print temp\n"
   ]
  },
  {
   "cell_type": "code",
   "execution_count": 157,
   "metadata": {
    "collapsed": false
   },
   "outputs": [
    {
     "data": {
      "text/plain": [
       "{1026491: 0.28205128205128205, 1078675: 1.0}"
      ]
     },
     "execution_count": 157,
     "metadata": {},
     "output_type": "execute_result"
    }
   ],
   "source": [
    "alldict[116825]"
   ]
  },
  {
   "cell_type": "code",
   "execution_count": 182,
   "metadata": {
    "collapsed": false
   },
   "outputs": [
    {
     "data": {
      "text/html": [
       "<div>\n",
       "<table border=\"1\" class=\"dataframe\">\n",
       "  <thead>\n",
       "    <tr style=\"text-align: right;\">\n",
       "      <th></th>\n",
       "      <th>timelong</th>\n",
       "      <th>device</th>\n",
       "      <th>log_from</th>\n",
       "      <th>ip</th>\n",
       "      <th>city</th>\n",
       "      <th>id</th>\n",
       "      <th>is_scan</th>\n",
       "      <th>device_count</th>\n",
       "      <th>result_0</th>\n",
       "      <th>result_1</th>\n",
       "      <th>...</th>\n",
       "      <th>type_0</th>\n",
       "      <th>type_1</th>\n",
       "      <th>type_2</th>\n",
       "      <th>month</th>\n",
       "      <th>date</th>\n",
       "      <th>hour</th>\n",
       "      <th>minute</th>\n",
       "      <th>city_count</th>\n",
       "      <th>logfrom_count</th>\n",
       "      <th>ip_count</th>\n",
       "    </tr>\n",
       "  </thead>\n",
       "  <tbody>\n",
       "    <tr>\n",
       "      <th>0</th>\n",
       "      <td>-0.027434</td>\n",
       "      <td>0.416667</td>\n",
       "      <td>0.666667</td>\n",
       "      <td>0.282051</td>\n",
       "      <td>1.000000</td>\n",
       "      <td>116825</td>\n",
       "      <td>1</td>\n",
       "      <td>5</td>\n",
       "      <td>1</td>\n",
       "      <td>0</td>\n",
       "      <td>...</td>\n",
       "      <td>1</td>\n",
       "      <td>0</td>\n",
       "      <td>0</td>\n",
       "      <td>4</td>\n",
       "      <td>10</td>\n",
       "      <td>12</td>\n",
       "      <td>54</td>\n",
       "      <td>-0.862897</td>\n",
       "      <td>-0.311124</td>\n",
       "      <td>-0.472548</td>\n",
       "    </tr>\n",
       "    <tr>\n",
       "      <th>1</th>\n",
       "      <td>-0.006968</td>\n",
       "      <td>0.115385</td>\n",
       "      <td>0.730769</td>\n",
       "      <td>0.384615</td>\n",
       "      <td>0.961538</td>\n",
       "      <td>109987</td>\n",
       "      <td>0</td>\n",
       "      <td>4</td>\n",
       "      <td>1</td>\n",
       "      <td>0</td>\n",
       "      <td>...</td>\n",
       "      <td>1</td>\n",
       "      <td>0</td>\n",
       "      <td>0</td>\n",
       "      <td>4</td>\n",
       "      <td>12</td>\n",
       "      <td>11</td>\n",
       "      <td>20</td>\n",
       "      <td>-0.614366</td>\n",
       "      <td>-0.311124</td>\n",
       "      <td>-0.451918</td>\n",
       "    </tr>\n",
       "    <tr>\n",
       "      <th>2</th>\n",
       "      <td>-0.027434</td>\n",
       "      <td>0.416667</td>\n",
       "      <td>0.666667</td>\n",
       "      <td>0.282051</td>\n",
       "      <td>1.000000</td>\n",
       "      <td>116825</td>\n",
       "      <td>1</td>\n",
       "      <td>5</td>\n",
       "      <td>1</td>\n",
       "      <td>0</td>\n",
       "      <td>...</td>\n",
       "      <td>1</td>\n",
       "      <td>0</td>\n",
       "      <td>0</td>\n",
       "      <td>3</td>\n",
       "      <td>30</td>\n",
       "      <td>16</td>\n",
       "      <td>38</td>\n",
       "      <td>-0.862897</td>\n",
       "      <td>-0.311124</td>\n",
       "      <td>-0.472548</td>\n",
       "    </tr>\n",
       "    <tr>\n",
       "      <th>3</th>\n",
       "      <td>-0.027433</td>\n",
       "      <td>0.416667</td>\n",
       "      <td>0.666667</td>\n",
       "      <td>0.282051</td>\n",
       "      <td>1.000000</td>\n",
       "      <td>116825</td>\n",
       "      <td>1</td>\n",
       "      <td>5</td>\n",
       "      <td>1</td>\n",
       "      <td>0</td>\n",
       "      <td>...</td>\n",
       "      <td>1</td>\n",
       "      <td>0</td>\n",
       "      <td>0</td>\n",
       "      <td>4</td>\n",
       "      <td>6</td>\n",
       "      <td>16</td>\n",
       "      <td>22</td>\n",
       "      <td>-0.862897</td>\n",
       "      <td>-0.311124</td>\n",
       "      <td>-0.472548</td>\n",
       "    </tr>\n",
       "    <tr>\n",
       "      <th>4</th>\n",
       "      <td>-0.027435</td>\n",
       "      <td>0.416667</td>\n",
       "      <td>0.666667</td>\n",
       "      <td>0.282051</td>\n",
       "      <td>1.000000</td>\n",
       "      <td>116825</td>\n",
       "      <td>1</td>\n",
       "      <td>5</td>\n",
       "      <td>1</td>\n",
       "      <td>0</td>\n",
       "      <td>...</td>\n",
       "      <td>1</td>\n",
       "      <td>0</td>\n",
       "      <td>0</td>\n",
       "      <td>4</td>\n",
       "      <td>5</td>\n",
       "      <td>15</td>\n",
       "      <td>55</td>\n",
       "      <td>-0.862897</td>\n",
       "      <td>-0.311124</td>\n",
       "      <td>-0.472548</td>\n",
       "    </tr>\n",
       "  </tbody>\n",
       "</table>\n",
       "<p>5 rows × 23 columns</p>\n",
       "</div>"
      ],
      "text/plain": [
       "   timelong    device  log_from        ip      city      id  is_scan  \\\n",
       "0 -0.027434  0.416667  0.666667  0.282051  1.000000  116825        1   \n",
       "1 -0.006968  0.115385  0.730769  0.384615  0.961538  109987        0   \n",
       "2 -0.027434  0.416667  0.666667  0.282051  1.000000  116825        1   \n",
       "3 -0.027433  0.416667  0.666667  0.282051  1.000000  116825        1   \n",
       "4 -0.027435  0.416667  0.666667  0.282051  1.000000  116825        1   \n",
       "\n",
       "   device_count  result_0  result_1    ...     type_0  type_1  type_2  month  \\\n",
       "0             5         1         0    ...          1       0       0      4   \n",
       "1             4         1         0    ...          1       0       0      4   \n",
       "2             5         1         0    ...          1       0       0      3   \n",
       "3             5         1         0    ...          1       0       0      4   \n",
       "4             5         1         0    ...          1       0       0      4   \n",
       "\n",
       "   date  hour  minute  city_count  logfrom_count  ip_count  \n",
       "0    10    12      54   -0.862897      -0.311124 -0.472548  \n",
       "1    12    11      20   -0.614366      -0.311124 -0.451918  \n",
       "2    30    16      38   -0.862897      -0.311124 -0.472548  \n",
       "3     6    16      22   -0.862897      -0.311124 -0.472548  \n",
       "4     5    15      55   -0.862897      -0.311124 -0.472548  \n",
       "\n",
       "[5 rows x 23 columns]"
      ]
     },
     "execution_count": 182,
     "metadata": {},
     "output_type": "execute_result"
    }
   ],
   "source": [
    "data.head()"
   ]
  },
  {
   "cell_type": "code",
   "execution_count": 167,
   "metadata": {
    "collapsed": false
   },
   "outputs": [
    {
     "name": "stderr",
     "output_type": "stream",
     "text": [
      "c:\\python27\\lib\\site-packages\\sklearn\\preprocessing\\data.py:321: DeprecationWarning: Passing 1d arrays as data is deprecated in 0.17 and will raise ValueError in 0.19. Reshape your data either using X.reshape(-1, 1) if your data has a single feature or X.reshape(1, -1) if it contains a single sample.\n",
      "  warnings.warn(DEPRECATION_MSG_1D, DeprecationWarning)\n",
      "c:\\python27\\lib\\site-packages\\sklearn\\preprocessing\\data.py:356: DeprecationWarning: Passing 1d arrays as data is deprecated in 0.17 and will raise ValueError in 0.19. Reshape your data either using X.reshape(-1, 1) if your data has a single feature or X.reshape(1, -1) if it contains a single sample.\n",
      "  warnings.warn(DEPRECATION_MSG_1D, DeprecationWarning)\n",
      "c:\\python27\\lib\\site-packages\\sklearn\\preprocessing\\data.py:321: DeprecationWarning: Passing 1d arrays as data is deprecated in 0.17 and will raise ValueError in 0.19. Reshape your data either using X.reshape(-1, 1) if your data has a single feature or X.reshape(1, -1) if it contains a single sample.\n",
      "  warnings.warn(DEPRECATION_MSG_1D, DeprecationWarning)\n",
      "c:\\python27\\lib\\site-packages\\sklearn\\preprocessing\\data.py:356: DeprecationWarning: Passing 1d arrays as data is deprecated in 0.17 and will raise ValueError in 0.19. Reshape your data either using X.reshape(-1, 1) if your data has a single feature or X.reshape(1, -1) if it contains a single sample.\n",
      "  warnings.warn(DEPRECATION_MSG_1D, DeprecationWarning)\n",
      "c:\\python27\\lib\\site-packages\\sklearn\\preprocessing\\data.py:321: DeprecationWarning: Passing 1d arrays as data is deprecated in 0.17 and will raise ValueError in 0.19. Reshape your data either using X.reshape(-1, 1) if your data has a single feature or X.reshape(1, -1) if it contains a single sample.\n",
      "  warnings.warn(DEPRECATION_MSG_1D, DeprecationWarning)\n",
      "c:\\python27\\lib\\site-packages\\sklearn\\preprocessing\\data.py:356: DeprecationWarning: Passing 1d arrays as data is deprecated in 0.17 and will raise ValueError in 0.19. Reshape your data either using X.reshape(-1, 1) if your data has a single feature or X.reshape(1, -1) if it contains a single sample.\n",
      "  warnings.warn(DEPRECATION_MSG_1D, DeprecationWarning)\n"
     ]
    }
   ],
   "source": [
    "from sklearn.preprocessing import MinMaxScaler\n",
    "for c in ['city_count','logfrom_count','ip_count']:\n",
    "    data[c] = MinMaxScaler().fit_transform(data[c])"
   ]
  },
  {
   "cell_type": "code",
   "execution_count": 181,
   "metadata": {
    "collapsed": false
   },
   "outputs": [
    {
     "name": "stderr",
     "output_type": "stream",
     "text": [
      "c:\\python27\\lib\\site-packages\\sklearn\\preprocessing\\data.py:586: DeprecationWarning: Passing 1d arrays as data is deprecated in 0.17 and will raise ValueError in 0.19. Reshape your data either using X.reshape(-1, 1) if your data has a single feature or X.reshape(1, -1) if it contains a single sample.\n",
      "  warnings.warn(DEPRECATION_MSG_1D, DeprecationWarning)\n",
      "c:\\python27\\lib\\site-packages\\sklearn\\preprocessing\\data.py:649: DeprecationWarning: Passing 1d arrays as data is deprecated in 0.17 and will raise ValueError in 0.19. Reshape your data either using X.reshape(-1, 1) if your data has a single feature or X.reshape(1, -1) if it contains a single sample.\n",
      "  warnings.warn(DEPRECATION_MSG_1D, DeprecationWarning)\n"
     ]
    },
    {
     "data": {
      "text/plain": [
       "count    5.796310e+05\n",
       "mean     5.884097e-19\n",
       "std      1.000001e+00\n",
       "min     -2.916072e-02\n",
       "25%     -2.204038e-02\n",
       "50%     -1.820597e-02\n",
       "75%     -1.075044e-02\n",
       "max      2.861318e+02\n",
       "Name: timelong, dtype: float64"
      ]
     },
     "execution_count": 181,
     "metadata": {},
     "output_type": "execute_result"
    }
   ],
   "source": [
    "from sklearn.preprocessing import StandardScaler\n",
    "scaler = StandardScaler().fit(data['timelong'])\n",
    "data['timelong']=scaler.transform(data['timelong'])\n",
    "data['timelong'].describe()"
   ]
  },
  {
   "cell_type": "code",
   "execution_count": 185,
   "metadata": {
    "collapsed": false
   },
   "outputs": [],
   "source": [
    "trade=pd.read_csv('F:\\\\contest\\\\JD\\\\Risk_Detection_Qualification\\\\t_trade.csv')"
   ]
  },
  {
   "cell_type": "code",
   "execution_count": 190,
   "metadata": {
    "collapsed": false
   },
   "outputs": [
    {
     "data": {
      "text/html": [
       "<div>\n",
       "<table border=\"1\" class=\"dataframe\">\n",
       "  <thead>\n",
       "    <tr style=\"text-align: right;\">\n",
       "      <th></th>\n",
       "      <th>rowkey</th>\n",
       "      <th>time</th>\n",
       "      <th>id</th>\n",
       "      <th>is_risk</th>\n",
       "    </tr>\n",
       "  </thead>\n",
       "  <tbody>\n",
       "    <tr>\n",
       "      <th>0</th>\n",
       "      <td>3</td>\n",
       "      <td>2015-01-01 00:00:41.0</td>\n",
       "      <td>27863</td>\n",
       "      <td>0</td>\n",
       "    </tr>\n",
       "    <tr>\n",
       "      <th>1</th>\n",
       "      <td>6</td>\n",
       "      <td>2015-01-01 00:00:46.0</td>\n",
       "      <td>115201</td>\n",
       "      <td>0</td>\n",
       "    </tr>\n",
       "    <tr>\n",
       "      <th>2</th>\n",
       "      <td>13</td>\n",
       "      <td>2015-01-01 00:01:02.0</td>\n",
       "      <td>143711</td>\n",
       "      <td>0</td>\n",
       "    </tr>\n",
       "    <tr>\n",
       "      <th>3</th>\n",
       "      <td>32</td>\n",
       "      <td>2015-01-01 00:03:00.0</td>\n",
       "      <td>172699</td>\n",
       "      <td>0</td>\n",
       "    </tr>\n",
       "    <tr>\n",
       "      <th>4</th>\n",
       "      <td>43</td>\n",
       "      <td>2015-01-01 00:03:52.0</td>\n",
       "      <td>53265</td>\n",
       "      <td>0</td>\n",
       "    </tr>\n",
       "  </tbody>\n",
       "</table>\n",
       "</div>"
      ],
      "text/plain": [
       "   rowkey                   time      id  is_risk\n",
       "0       3  2015-01-01 00:00:41.0   27863        0\n",
       "1       6  2015-01-01 00:00:46.0  115201        0\n",
       "2      13  2015-01-01 00:01:02.0  143711        0\n",
       "3      32  2015-01-01 00:03:00.0  172699        0\n",
       "4      43  2015-01-01 00:03:52.0   53265        0"
      ]
     },
     "execution_count": 190,
     "metadata": {},
     "output_type": "execute_result"
    }
   ],
   "source": [
    "trade.head()"
   ]
  }
 ],
 "metadata": {
  "kernelspec": {
   "display_name": "Python 2",
   "language": "python",
   "name": "python2"
  },
  "language_info": {
   "codemirror_mode": {
    "name": "ipython",
    "version": 2
   },
   "file_extension": ".py",
   "mimetype": "text/x-python",
   "name": "python",
   "nbconvert_exporter": "python",
   "pygments_lexer": "ipython2",
   "version": "2.7.13"
  }
 },
 "nbformat": 4,
 "nbformat_minor": 2
}
